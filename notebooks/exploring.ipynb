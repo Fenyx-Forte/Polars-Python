{
 "cells": [
  {
   "cell_type": "code",
   "execution_count": 4,
   "metadata": {},
   "outputs": [],
   "source": [
    "import duckdb\n",
    "import polars as pl"
   ]
  },
  {
   "cell_type": "code",
   "execution_count": 5,
   "metadata": {},
   "outputs": [],
   "source": [
    "def read_sql_query(path: str) -> str:\n",
    "    query = \"\"\n",
    "    with open(path, \"r\") as file:\n",
    "        query = file.read()\n",
    "\n",
    "    return query"
   ]
  },
  {
   "cell_type": "code",
   "execution_count": 11,
   "metadata": {},
   "outputs": [
    {
     "data": {
      "text/plain": [
       "┌──────────────────────┬──────────────────────┬───┬────────────────────┬─────────────────────┬────────────────────┐\n",
       "│    area_avaliacao    │       mod_ens        │ … │   nota_bruta_ce    │ nota_padronizada_ce │  conc_enade_cont   │\n",
       "│       varchar        │       varchar        │   │       double       │       double        │       double       │\n",
       "├──────────────────────┼──────────────────────┼───┼────────────────────┼─────────────────────┼────────────────────┤\n",
       "│ ARTES VISUAIS        │ Educação Presencial  │ … │  54.71073433756828 │  3.0419531259685755 │ 2.9606249975040555 │\n",
       "│ ARTES VISUAIS        │ Educação a Distância │ … │  45.21060009002686 │   1.846799997985363 │ 1.8018499851226806 │\n",
       "│ CIÊNCIA DA COMPUTA…  │ Educação a Distância │ … │  30.25550027327104 │  1.9309090890667655 │  2.054272722114216 │\n",
       "│ CIÊNCIA DA COMPUTA…  │ Educação Presencial  │ … │  34.65353545926448 │   2.115172807369962 │ 2.2097110458261864 │\n",
       "│ CIÊNCIAS BIOLÓGICAS  │ Educação Presencial  │ … │  44.82046221360173 │  2.6217357018355054 │  2.616290569075108 │\n",
       "│ CIÊNCIAS BIOLÓGICAS  │ Educação a Distância │ … │   39.8251631989771 │  1.9151224493980408 │  1.949102052620479 │\n",
       "│ CIÊNCIAS SOCIAIS     │ Educação Presencial  │ … │  45.61438773278476 │   2.758394542600022 │  2.743224485593588 │\n",
       "│ CIÊNCIAS SOCIAIS     │ Educação a Distância │ … │  42.71524965763092 │   2.178187506273389 │ 2.1057500233873725 │\n",
       "│ DESIGN               │ Educação Presencial  │ … │  48.62254649621469 │   2.658018511340574 │  2.727935184414188 │\n",
       "│ EDUCAÇÃO FÍSICA      │ Educação Presencial  │ … │  39.85748524297636 │  2.4297435658107607 │ 2.4403317452428794 │\n",
       "│    ·                 │          ·           │ · │          ·         │           ·         │          ·         │\n",
       "│    ·                 │          ·           │ · │          ·         │           ·         │          ·         │\n",
       "│    ·                 │          ·           │ · │          ·         │           ·         │          ·         │\n",
       "│ QUÍMICA              │ Educação a Distância │ … │  33.91391193165499 │  1.7090588273370968 │ 1.7949411676210516 │\n",
       "│ QUÍMICA              │ Educação Presencial  │ … │  37.52644787376235 │   2.230176659201034 │  2.284249208750033 │\n",
       "│ SISTEMAS DE INFORM…  │ Educação a Distância │ … │ 36.496166970994736 │  1.7547777593135834 │ 1.8743888868225946 │\n",
       "│ SISTEMAS DE INFORM…  │ Educação Presencial  │ … │  39.21841627069422 │  2.2386621621009466 │  2.267205403141073 │\n",
       "│ TECNOLOGIA EM ANÁL…  │ Educação a Distância │ … │ 28.944654441174166 │   2.245580232437746 │  2.361271608022996 │\n",
       "│ TECNOLOGIA EM ANÁL…  │ Educação Presencial  │ … │ 30.643429963588716 │  2.4810000003874304 │  2.477252499088645 │\n",
       "│ TECNOLOGIA EM GEST…  │ Educação a Distância │ … │ 40.976434541785196 │  2.5844565267148227 │ 2.6347608514454053 │\n",
       "│ TECNOLOGIA EM GEST…  │ Educação Presencial  │ … │   37.3208712020723 │  2.0468118773164727 │  2.084386148222602 │\n",
       "│ TECNOLOGIA EM REDE…  │ Educação a Distância │ … │  27.74795436859131 │   2.157681795683774 │  2.206636369228363 │\n",
       "│ TECNOLOGIA EM REDE…  │ Educação Presencial  │ … │ 28.432717385499373 │  2.2481304251629375 │ 2.2172065295440997 │\n",
       "├──────────────────────┴──────────────────────┴───┴────────────────────┴─────────────────────┴────────────────────┤\n",
       "│ 43 rows (20 shown)                                                                          7 columns (5 shown) │\n",
       "└─────────────────────────────────────────────────────────────────────────────────────────────────────────────────┘"
      ]
     },
     "execution_count": 11,
     "metadata": {},
     "output_type": "execute_result"
    }
   ],
   "source": [
    "query = read_sql_query(\"../sql/query/enade_2021.sql\")\n",
    "\n",
    "duckdb.sql(query)"
   ]
  },
  {
   "cell_type": "code",
   "execution_count": 13,
   "metadata": {},
   "outputs": [
    {
     "data": {
      "text/plain": [
       "┌──────────────────────┬──────────────────────┬───┬────────────────────┬─────────────────────┬────────────────────┐\n",
       "│    area_avaliacao    │       mod_ens        │ … │   nota_bruta_ce    │ nota_padronizada_ce │  conc_enade_cont   │\n",
       "│       varchar        │       varchar        │   │       double       │       double        │       double       │\n",
       "├──────────────────────┼──────────────────────┼───┼────────────────────┼─────────────────────┼────────────────────┤\n",
       "│ ADMINISTRAÇÃO        │ Educação Presencial  │ … │ 36.833737243441746 │  2.4774878794340753 │ 2.4872986875733063 │\n",
       "│ ADMINISTRAÇÃO        │ Educação a Distância │ … │ 37.004039280450165 │  2.4994876776168597 │   2.54655800292741 │\n",
       "│ ADMINISTRAÇÃO PÚBL…  │ Educação Presencial  │ … │  49.13068283081055 │  2.7734433722496035 │ 2.8077043104171753 │\n",
       "│ ADMINISTRAÇÃO PÚBL…  │ Educação a Distância │ … │  38.99135387305057 │  1.5016212702700587 │   1.47670282107411 │\n",
       "│ AGRONOMIA            │ Educação Presencial  │ … │  54.61775759815768 │  2.7150037063894046 │ 2.6888329970716227 │\n",
       "│ ARQUITETURA E URBA…  │ Educação Presencial  │ … │  52.76050605393543 │   2.380449973322727 │ 2.3538492287580786 │\n",
       "│ ARTES VISUAIS        │ Educação Presencial  │ … │  54.71073433756828 │  3.0419531259685755 │ 2.9606249975040555 │\n",
       "│ ARTES VISUAIS        │ Educação a Distância │ … │  45.21060009002686 │   1.846799997985363 │ 1.8018499851226806 │\n",
       "│ ARTES VISUAIS (LIC…  │ Educação Presencial  │ … │  56.56410757700602 │  2.4115128068342093 │ 2.4247510287733305 │\n",
       "│ ARTES VISUAIS (LIC…  │ Educação a Distância │ … │  48.48014913286482 │  1.2640382402709551 │ 1.3640394721712386 │\n",
       "│          ·           │          ·           │ · │          ·         │           ·         │          ·         │\n",
       "│          ·           │          ·           │ · │          ·         │           ·         │          ·         │\n",
       "│          ·           │          ·           │ · │          ·         │           ·         │          ·         │\n",
       "│ TECNOLOGIA EM REDE…  │ Educação Presencial  │ … │  29.22393653854247 │   2.523449930933214 │ 2.5049377130945363 │\n",
       "│ TECNOLOGIA EM REDE…  │ Educação a Distância │ … │ 27.683134873708088 │   2.164987867077192 │ 2.2123518039782843 │\n",
       "│ TECNOLOGIA EM SEGU…  │ Educação Presencial  │ … │  36.44899975169789 │   2.969063650478016 │  3.021527268669822 │\n",
       "│ TECNOLOGIA EM SEGU…  │ Educação a Distância │ … │ 33.456950187683105 │  1.9050300002098084 │ 2.1057200014591215 │\n",
       "│ TEOLOGIA             │ Educação Presencial  │ … │  47.57382864239572 │  2.7630859839505164 │  2.731976787934358 │\n",
       "│ TEOLOGIA             │ Educação a Distância │ … │ 46.572824239730835 │  2.6060057654976845 │  2.662323050200939 │\n",
       "│ TURISMO              │ Educação Presencial  │ … │ 50.199833467271596 │   2.658555179834366 │ 2.5487148225307465 │\n",
       "│ TURISMO              │ Educação a Distância │ … │ 51.052940368652344 │    2.84979248046875 │ 2.9326298236846924 │\n",
       "│ ZOOTECNIA            │ Educação Presencial  │ … │  41.55479061603546 │    2.28782603982836 │ 2.3731645736843348 │\n",
       "│ NULL                 │ NULL                 │ … │               NULL │                NULL │               NULL │\n",
       "├──────────────────────┴──────────────────────┴───┴────────────────────┴─────────────────────┴────────────────────┤\n",
       "│ 190 rows (20 shown)                                                                         7 columns (5 shown) │\n",
       "└─────────────────────────────────────────────────────────────────────────────────────────────────────────────────┘"
      ]
     },
     "execution_count": 13,
     "metadata": {},
     "output_type": "execute_result"
    }
   ],
   "source": [
    "query = read_sql_query(\"../sql/query/enade.sql\")\n",
    "\n",
    "duckdb.sql(query)"
   ]
  }
 ],
 "metadata": {
  "kernelspec": {
   "display_name": ".venv",
   "language": "python",
   "name": "python3"
  },
  "language_info": {
   "codemirror_mode": {
    "name": "ipython",
    "version": 3
   },
   "file_extension": ".py",
   "mimetype": "text/x-python",
   "name": "python",
   "nbconvert_exporter": "python",
   "pygments_lexer": "ipython3",
   "version": "3.10.12"
  }
 },
 "nbformat": 4,
 "nbformat_minor": 2
}
