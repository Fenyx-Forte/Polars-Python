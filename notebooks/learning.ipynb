{
 "cells": [
  {
   "cell_type": "code",
   "execution_count": 3,
   "metadata": {},
   "outputs": [],
   "source": [
    "import numpy as np\n",
    "import polars as pl"
   ]
  },
  {
   "cell_type": "code",
   "execution_count": 4,
   "metadata": {},
   "outputs": [],
   "source": [
    "enade = pl.read_excel(\"../data/raw/conceito_enade_2021.xlsx\", engine=\"calamine\")"
   ]
  },
  {
   "cell_type": "code",
   "execution_count": 5,
   "metadata": {},
   "outputs": [
    {
     "data": {
      "text/html": [
       "<div><style>\n",
       ".dataframe > thead > tr,\n",
       ".dataframe > tbody > tr {\n",
       "  text-align: right;\n",
       "  white-space: pre-wrap;\n",
       "}\n",
       "</style>\n",
       "<small>shape: (7_998, 23)</small><table border=\"1\" class=\"dataframe\"><thead><tr><th>Ano</th><th>Código da Área</th><th>Área de Avaliação</th><th>Grau Acadêmico</th><th>Código da IES</th><th>Nome da IES</th><th>Sigla da IES*</th><th>Organização Acadêmica</th><th>Categoria Administrativa</th><th>Código do Curso</th><th>Modalidade de Ensino</th><th>Código do Município**</th><th>Município do Curso</th><th>Sigla da UF</th><th>Nº de Concluintes Inscritos</th><th>Nº  de Concluintes Participantes</th><th>Nota Bruta - FG</th><th>Nota Padronizada - FG</th><th>Nota Bruta - CE</th><th>Nota Padronizada - CE</th><th>Conceito Enade (Contínuo)</th><th>Conceito Enade (Faixa)</th><th>Observação</th></tr><tr><td>i64</td><td>i64</td><td>str</td><td>str</td><td>i64</td><td>str</td><td>str</td><td>str</td><td>str</td><td>i64</td><td>str</td><td>i64</td><td>str</td><td>str</td><td>i64</td><td>i64</td><td>f64</td><td>f64</td><td>f64</td><td>f64</td><td>f64</td><td>str</td><td>str</td></tr></thead><tbody><tr><td>2021</td><td>2501</td><td>&quot;ARTES VISUAIS …</td><td>&quot;Licenciatura&quot;</td><td>2</td><td>&quot;UNIVERSIDADE D…</td><td>&quot;UNB&quot;</td><td>&quot;Universidade&quot;</td><td>&quot;Pública Federa…</td><td>151</td><td>&quot;Educação Prese…</td><td>5300108</td><td>&quot;Brasília&quot;</td><td>&quot;DF&quot;</td><td>54</td><td>41</td><td>45.814</td><td>3.771</td><td>61.907</td><td>3.947</td><td>3.903</td><td>&quot;4&quot;</td><td>null</td></tr><tr><td>2021</td><td>2501</td><td>&quot;ARTES VISUAIS …</td><td>&quot;Licenciatura&quot;</td><td>2</td><td>&quot;UNIVERSIDADE D…</td><td>&quot;UNB&quot;</td><td>&quot;Universidade&quot;</td><td>&quot;Pública Federa…</td><td>52159</td><td>&quot;Educação Prese…</td><td>5300108</td><td>&quot;Brasília&quot;</td><td>&quot;DF&quot;</td><td>34</td><td>28</td><td>40.496</td><td>2.988</td><td>51.514</td><td>2.64</td><td>2.727</td><td>&quot;3&quot;</td><td>null</td></tr><tr><td>2021</td><td>2501</td><td>&quot;ARTES VISUAIS …</td><td>&quot;Licenciatura&quot;</td><td>3</td><td>&quot;UNIVERSIDADE F…</td><td>&quot;UFS&quot;</td><td>&quot;Universidade&quot;</td><td>&quot;Pública Federa…</td><td>80419</td><td>&quot;Educação Prese…</td><td>2806701</td><td>&quot;São Cristóvão&quot;</td><td>&quot;SE&quot;</td><td>33</td><td>33</td><td>36.445</td><td>2.392</td><td>51.121</td><td>2.59</td><td>2.541</td><td>&quot;3&quot;</td><td>null</td></tr><tr><td>2021</td><td>2501</td><td>&quot;ARTES VISUAIS …</td><td>&quot;Licenciatura&quot;</td><td>4</td><td>&quot;UNIVERSIDADE F…</td><td>&quot;UFAM&quot;</td><td>&quot;Universidade&quot;</td><td>&quot;Pública Federa…</td><td>62512</td><td>&quot;Educação Prese…</td><td>1302603</td><td>&quot;Manaus&quot;</td><td>&quot;AM&quot;</td><td>27</td><td>23</td><td>43.569</td><td>3.441</td><td>54.447</td><td>3.009</td><td>3.117</td><td>&quot;4&quot;</td><td>null</td></tr><tr><td>2021</td><td>2501</td><td>&quot;ARTES VISUAIS …</td><td>&quot;Licenciatura&quot;</td><td>4</td><td>&quot;UNIVERSIDADE F…</td><td>&quot;UFAM&quot;</td><td>&quot;Universidade&quot;</td><td>&quot;Pública Federa…</td><td>112126</td><td>&quot;Educação a Dis…</td><td>1302603</td><td>&quot;Manaus&quot;</td><td>&quot;AM&quot;</td><td>65</td><td>59</td><td>25.818</td><td>0.828</td><td>33.503</td><td>0.374</td><td>0.488</td><td>&quot;1&quot;</td><td>null</td></tr><tr><td>&hellip;</td><td>&hellip;</td><td>&hellip;</td><td>&hellip;</td><td>&hellip;</td><td>&hellip;</td><td>&hellip;</td><td>&hellip;</td><td>&hellip;</td><td>&hellip;</td><td>&hellip;</td><td>&hellip;</td><td>&hellip;</td><td>&hellip;</td><td>&hellip;</td><td>&hellip;</td><td>&hellip;</td><td>&hellip;</td><td>&hellip;</td><td>&hellip;</td><td>&hellip;</td><td>&hellip;</td><td>&hellip;</td></tr><tr><td>2021</td><td>79</td><td>&quot;TECNOLOGIA EM …</td><td>&quot;Tecnológico&quot;</td><td>15520</td><td>&quot;INSTITUTO FEDE…</td><td>&quot;IFMS&quot;</td><td>&quot;Instituto Fede…</td><td>&quot;Pública Federa…</td><td>1419849</td><td>&quot;Educação Prese…</td><td>5001102</td><td>&quot;Aquidauana&quot;</td><td>&quot;MS&quot;</td><td>8</td><td>6</td><td>18.366</td><td>0.505</td><td>29.55</td><td>2.396</td><td>1.923</td><td>&quot;2&quot;</td><td>null</td></tr><tr><td>2021</td><td>79</td><td>&quot;TECNOLOGIA EM …</td><td>&quot;Tecnológico&quot;</td><td>15522</td><td>&quot;INSTITUTO FEDE…</td><td>&quot;IFAP&quot;</td><td>&quot;Instituto Fede…</td><td>&quot;Pública Federa…</td><td>1168520</td><td>&quot;Educação Prese…</td><td>1600303</td><td>&quot;Macapá&quot;</td><td>&quot;AP&quot;</td><td>15</td><td>11</td><td>35.336</td><td>3.192</td><td>26.936</td><td>2.051</td><td>2.336</td><td>&quot;3&quot;</td><td>null</td></tr><tr><td>2021</td><td>79</td><td>&quot;TECNOLOGIA EM …</td><td>&quot;Tecnológico&quot;</td><td>15689</td><td>&quot;Faculdade de T…</td><td>&quot;FATEC&quot;</td><td>&quot;Faculdade&quot;</td><td>&quot;Pública Estadu…</td><td>1149804</td><td>&quot;Educação Prese…</td><td>3506003</td><td>&quot;Bauru&quot;</td><td>&quot;SP&quot;</td><td>35</td><td>31</td><td>31.777</td><td>2.629</td><td>26.693</td><td>2.018</td><td>2.171</td><td>&quot;3&quot;</td><td>null</td></tr><tr><td>2021</td><td>79</td><td>&quot;TECNOLOGIA EM …</td><td>&quot;Tecnológico&quot;</td><td>15709</td><td>&quot;Faculdade de T…</td><td>&quot;Fatec Osasco&quot;</td><td>&quot;Faculdade&quot;</td><td>&quot;Pública Estadu…</td><td>1177589</td><td>&quot;Educação Prese…</td><td>3534401</td><td>&quot;Osasco&quot;</td><td>&quot;SP&quot;</td><td>118</td><td>82</td><td>32.909</td><td>2.808</td><td>31.782</td><td>2.69</td><td>2.72</td><td>&quot;3&quot;</td><td>null</td></tr><tr><td>null</td><td>null</td><td>null</td><td>null</td><td>null</td><td>null</td><td>&quot;do município/U…</td><td>null</td><td>null</td><td>null</td><td>null</td><td>null</td><td>null</td><td>null</td><td>null</td><td>null</td><td>null</td><td>null</td><td>null</td><td>null</td><td>null</td><td>null</td><td>null</td></tr></tbody></table></div>"
      ],
      "text/plain": [
       "shape: (7_998, 23)\n",
       "┌──────┬────────────┬────────────┬────────────┬───┬────────────┬───────────┬───────────┬───────────┐\n",
       "│ Ano  ┆ Código da  ┆ Área de    ┆ Grau       ┆ … ┆ Nota Padro ┆ Conceito  ┆ Conceito  ┆ Observaçã │\n",
       "│ ---  ┆ Área       ┆ Avaliação  ┆ Acadêmico  ┆   ┆ nizada -   ┆ Enade (Co ┆ Enade     ┆ o         │\n",
       "│ i64  ┆ ---        ┆ ---        ┆ ---        ┆   ┆ CE         ┆ ntínuo)   ┆ (Faixa)   ┆ ---       │\n",
       "│      ┆ i64        ┆ str        ┆ str        ┆   ┆ ---        ┆ ---       ┆ ---       ┆ str       │\n",
       "│      ┆            ┆            ┆            ┆   ┆ f64        ┆ f64       ┆ str       ┆           │\n",
       "╞══════╪════════════╪════════════╪════════════╪═══╪════════════╪═══════════╪═══════════╪═══════════╡\n",
       "│ 2021 ┆ 2501       ┆ ARTES      ┆ Licenciatu ┆ … ┆ 3.947      ┆ 3.903     ┆ 4         ┆ null      │\n",
       "│      ┆            ┆ VISUAIS    ┆ ra         ┆   ┆            ┆           ┆           ┆           │\n",
       "│ 2021 ┆ 2501       ┆ ARTES      ┆ Licenciatu ┆ … ┆ 2.64       ┆ 2.727     ┆ 3         ┆ null      │\n",
       "│      ┆            ┆ VISUAIS    ┆ ra         ┆   ┆            ┆           ┆           ┆           │\n",
       "│ 2021 ┆ 2501       ┆ ARTES      ┆ Licenciatu ┆ … ┆ 2.59       ┆ 2.541     ┆ 3         ┆ null      │\n",
       "│      ┆            ┆ VISUAIS    ┆ ra         ┆   ┆            ┆           ┆           ┆           │\n",
       "│ 2021 ┆ 2501       ┆ ARTES      ┆ Licenciatu ┆ … ┆ 3.009      ┆ 3.117     ┆ 4         ┆ null      │\n",
       "│      ┆            ┆ VISUAIS    ┆ ra         ┆   ┆            ┆           ┆           ┆           │\n",
       "│ 2021 ┆ 2501       ┆ ARTES      ┆ Licenciatu ┆ … ┆ 0.374      ┆ 0.488     ┆ 1         ┆ null      │\n",
       "│      ┆            ┆ VISUAIS    ┆ ra         ┆   ┆            ┆           ┆           ┆           │\n",
       "│ …    ┆ …          ┆ …          ┆ …          ┆ … ┆ …          ┆ …         ┆ …         ┆ …         │\n",
       "│ 2021 ┆ 79         ┆ TECNOLOGIA ┆ Tecnológic ┆ … ┆ 2.396      ┆ 1.923     ┆ 2         ┆ null      │\n",
       "│      ┆            ┆ EM REDES   ┆ o          ┆   ┆            ┆           ┆           ┆           │\n",
       "│      ┆            ┆ DE         ┆            ┆   ┆            ┆           ┆           ┆           │\n",
       "│      ┆            ┆ COMPUTADO… ┆            ┆   ┆            ┆           ┆           ┆           │\n",
       "│ 2021 ┆ 79         ┆ TECNOLOGIA ┆ Tecnológic ┆ … ┆ 2.051      ┆ 2.336     ┆ 3         ┆ null      │\n",
       "│      ┆            ┆ EM REDES   ┆ o          ┆   ┆            ┆           ┆           ┆           │\n",
       "│      ┆            ┆ DE         ┆            ┆   ┆            ┆           ┆           ┆           │\n",
       "│      ┆            ┆ COMPUTADO… ┆            ┆   ┆            ┆           ┆           ┆           │\n",
       "│ 2021 ┆ 79         ┆ TECNOLOGIA ┆ Tecnológic ┆ … ┆ 2.018      ┆ 2.171     ┆ 3         ┆ null      │\n",
       "│      ┆            ┆ EM REDES   ┆ o          ┆   ┆            ┆           ┆           ┆           │\n",
       "│      ┆            ┆ DE         ┆            ┆   ┆            ┆           ┆           ┆           │\n",
       "│      ┆            ┆ COMPUTADO… ┆            ┆   ┆            ┆           ┆           ┆           │\n",
       "│ 2021 ┆ 79         ┆ TECNOLOGIA ┆ Tecnológic ┆ … ┆ 2.69       ┆ 2.72      ┆ 3         ┆ null      │\n",
       "│      ┆            ┆ EM REDES   ┆ o          ┆   ┆            ┆           ┆           ┆           │\n",
       "│      ┆            ┆ DE         ┆            ┆   ┆            ┆           ┆           ┆           │\n",
       "│      ┆            ┆ COMPUTADO… ┆            ┆   ┆            ┆           ┆           ┆           │\n",
       "│ null ┆ null       ┆ null       ┆ null       ┆ … ┆ null       ┆ null      ┆ null      ┆ null      │\n",
       "└──────┴────────────┴────────────┴────────────┴───┴────────────┴───────────┴───────────┴───────────┘"
      ]
     },
     "execution_count": 5,
     "metadata": {},
     "output_type": "execute_result"
    }
   ],
   "source": [
    "enade"
   ]
  },
  {
   "cell_type": "code",
   "execution_count": 6,
   "metadata": {},
   "outputs": [
    {
     "data": {
      "text/plain": [
       "OrderedDict([('Ano', Int64),\n",
       "             ('Código da Área', Int64),\n",
       "             ('Área de Avaliação', String),\n",
       "             ('Grau Acadêmico', String),\n",
       "             ('Código da IES', Int64),\n",
       "             ('Nome da IES', String),\n",
       "             ('Sigla da IES*', String),\n",
       "             ('Organização Acadêmica', String),\n",
       "             ('Categoria Administrativa', String),\n",
       "             ('Código do Curso', Int64),\n",
       "             ('Modalidade de Ensino', String),\n",
       "             ('Código do Município**', Int64),\n",
       "             ('Município do Curso', String),\n",
       "             ('Sigla da UF', String),\n",
       "             ('Nº de Concluintes Inscritos', Int64),\n",
       "             ('Nº  de Concluintes Participantes', Int64),\n",
       "             ('Nota Bruta - FG', Float64),\n",
       "             ('Nota Padronizada - FG', Float64),\n",
       "             ('Nota Bruta - CE', Float64),\n",
       "             ('Nota Padronizada - CE', Float64),\n",
       "             ('Conceito Enade (Contínuo)', Float64),\n",
       "             ('Conceito Enade (Faixa)', String),\n",
       "             ('Observação', String)])"
      ]
     },
     "execution_count": 6,
     "metadata": {},
     "output_type": "execute_result"
    }
   ],
   "source": [
    "enade.schema"
   ]
  },
  {
   "cell_type": "code",
   "execution_count": 7,
   "metadata": {},
   "outputs": [
    {
     "data": {
      "text/html": [
       "<div><style>\n",
       ".dataframe > thead > tr,\n",
       ".dataframe > tbody > tr {\n",
       "  text-align: right;\n",
       "  white-space: pre-wrap;\n",
       "}\n",
       "</style>\n",
       "<small>shape: (9, 24)</small><table border=\"1\" class=\"dataframe\"><thead><tr><th>statistic</th><th>Ano</th><th>Código da Área</th><th>Área de Avaliação</th><th>Grau Acadêmico</th><th>Código da IES</th><th>Nome da IES</th><th>Sigla da IES*</th><th>Organização Acadêmica</th><th>Categoria Administrativa</th><th>Código do Curso</th><th>Modalidade de Ensino</th><th>Código do Município**</th><th>Município do Curso</th><th>Sigla da UF</th><th>Nº de Concluintes Inscritos</th><th>Nº  de Concluintes Participantes</th><th>Nota Bruta - FG</th><th>Nota Padronizada - FG</th><th>Nota Bruta - CE</th><th>Nota Padronizada - CE</th><th>Conceito Enade (Contínuo)</th><th>Conceito Enade (Faixa)</th><th>Observação</th></tr><tr><td>str</td><td>f64</td><td>f64</td><td>str</td><td>str</td><td>f64</td><td>str</td><td>str</td><td>str</td><td>str</td><td>f64</td><td>str</td><td>f64</td><td>str</td><td>str</td><td>f64</td><td>f64</td><td>f64</td><td>f64</td><td>f64</td><td>f64</td><td>f64</td><td>str</td><td>str</td></tr></thead><tbody><tr><td>&quot;count&quot;</td><td>7997.0</td><td>7997.0</td><td>&quot;7997&quot;</td><td>&quot;7997&quot;</td><td>7997.0</td><td>&quot;7997&quot;</td><td>&quot;7502&quot;</td><td>&quot;7997&quot;</td><td>&quot;7997&quot;</td><td>7997.0</td><td>&quot;7997&quot;</td><td>7997.0</td><td>&quot;7997&quot;</td><td>&quot;7997&quot;</td><td>7997.0</td><td>7997.0</td><td>7512.0</td><td>7512.0</td><td>7512.0</td><td>7512.0</td><td>7512.0</td><td>&quot;7853&quot;</td><td>&quot;144&quot;</td></tr><tr><td>&quot;null_count&quot;</td><td>1.0</td><td>1.0</td><td>&quot;1&quot;</td><td>&quot;1&quot;</td><td>1.0</td><td>&quot;1&quot;</td><td>&quot;496&quot;</td><td>&quot;1&quot;</td><td>&quot;1&quot;</td><td>1.0</td><td>&quot;1&quot;</td><td>1.0</td><td>&quot;1&quot;</td><td>&quot;1&quot;</td><td>1.0</td><td>1.0</td><td>486.0</td><td>486.0</td><td>486.0</td><td>486.0</td><td>486.0</td><td>&quot;145&quot;</td><td>&quot;7854&quot;</td></tr><tr><td>&quot;mean&quot;</td><td>2021.0</td><td>2362.29236</td><td>null</td><td>null</td><td>2270.348631</td><td>null</td><td>null</td><td>null</td><td>null</td><td>590536.284482</td><td>null</td><td>3.3958e6</td><td>null</td><td>null</td><td>61.256221</td><td>44.403526</td><td>34.670726</td><td>2.465362</td><td>41.306688</td><td>2.379196</td><td>2.400736</td><td>null</td><td>null</td></tr><tr><td>&quot;std&quot;</td><td>0.0</td><td>1514.196746</td><td>null</td><td>null</td><td>4284.792302</td><td>null</td><td>null</td><td>null</td><td>null</td><td>786022.516674</td><td>null</td><td>972458.721003</td><td>null</td><td>null</td><td>461.263424</td><td>362.012872</td><td>7.479675</td><td>0.935277</td><td>9.361346</td><td>0.974633</td><td>0.912079</td><td>null</td><td>null</td></tr><tr><td>&quot;min&quot;</td><td>2021.0</td><td>26.0</td><td>&quot;ARTES VISUAIS …</td><td>&quot;Bacharelado&quot;</td><td>1.0</td><td>&quot;ABEU - CENTRO …</td><td>&quot; UNIFACCAMP&quot;</td><td>&quot;Centro Federal…</td><td>&quot;Especial&quot;</td><td>6.0</td><td>&quot;Educação Prese…</td><td>1.100023e6</td><td>&quot;Abaetetuba&quot;</td><td>&quot;AC&quot;</td><td>1.0</td><td>0.0</td><td>3.75</td><td>0.0</td><td>11.4</td><td>0.0</td><td>0.0</td><td>&quot;1&quot;</td><td>&quot;Curso para o q…</td></tr><tr><td>&quot;25%&quot;</td><td>2021.0</td><td>1402.0</td><td>null</td><td>null</td><td>374.0</td><td>null</td><td>null</td><td>null</td><td>null</td><td>50082.0</td><td>null</td><td>2.903201e6</td><td>null</td><td>null</td><td>12.0</td><td>9.0</td><td>29.422</td><td>1.822</td><td>34.888</td><td>1.679</td><td>1.751</td><td>null</td><td>null</td></tr><tr><td>&quot;50%&quot;</td><td>2021.0</td><td>2001.0</td><td>null</td><td>null</td><td>688.0</td><td>null</td><td>null</td><td>null</td><td>null</td><td>112984.0</td><td>null</td><td>3.506003e6</td><td>null</td><td>null</td><td>24.0</td><td>19.0</td><td>34.191</td><td>2.432</td><td>40.825</td><td>2.32</td><td>2.339</td><td>null</td><td>null</td></tr><tr><td>&quot;75%&quot;</td><td>2021.0</td><td>3501.0</td><td>null</td><td>null</td><td>1847.0</td><td>null</td><td>null</td><td>null</td><td>null</td><td>1.190631e6</td><td>null</td><td>4.1137e6</td><td>null</td><td>null</td><td>45.0</td><td>35.0</td><td>39.65</td><td>3.088</td><td>47.166</td><td>3.029</td><td>3.007</td><td>null</td><td>null</td></tr><tr><td>&quot;max&quot;</td><td>2021.0</td><td>6409.0</td><td>&quot;TECNOLOGIA EM …</td><td>&quot;Tecnológico&quot;</td><td>25352.0</td><td>&quot;Universidade d…</td><td>&quot;do município/U…</td><td>&quot;Universidade&quot;</td><td>&quot;Pública Munici…</td><td>5.001487e6</td><td>&quot;Educação a Dis…</td><td>5.300108e6</td><td>&quot;Óbidos&quot;</td><td>&quot;TO&quot;</td><td>26771.0</td><td>23842.0</td><td>66.7</td><td>5.0</td><td>85.55</td><td>5.0</td><td>5.0</td><td>&quot;SC&quot;</td><td>&quot;Curso para o q…</td></tr></tbody></table></div>"
      ],
      "text/plain": [
       "shape: (9, 24)\n",
       "┌────────────┬────────┬────────────┬───────────┬───┬───────────┬───────────┬───────────┬───────────┐\n",
       "│ statistic  ┆ Ano    ┆ Código da  ┆ Área de   ┆ … ┆ Nota Padr ┆ Conceito  ┆ Conceito  ┆ Observaçã │\n",
       "│ ---        ┆ ---    ┆ Área       ┆ Avaliação ┆   ┆ onizada - ┆ Enade (Co ┆ Enade     ┆ o         │\n",
       "│ str        ┆ f64    ┆ ---        ┆ ---       ┆   ┆ CE        ┆ ntínuo)   ┆ (Faixa)   ┆ ---       │\n",
       "│            ┆        ┆ f64        ┆ str       ┆   ┆ ---       ┆ ---       ┆ ---       ┆ str       │\n",
       "│            ┆        ┆            ┆           ┆   ┆ f64       ┆ f64       ┆ str       ┆           │\n",
       "╞════════════╪════════╪════════════╪═══════════╪═══╪═══════════╪═══════════╪═══════════╪═══════════╡\n",
       "│ count      ┆ 7997.0 ┆ 7997.0     ┆ 7997      ┆ … ┆ 7512.0    ┆ 7512.0    ┆ 7853      ┆ 144       │\n",
       "│ null_count ┆ 1.0    ┆ 1.0        ┆ 1         ┆ … ┆ 486.0     ┆ 486.0     ┆ 145       ┆ 7854      │\n",
       "│ mean       ┆ 2021.0 ┆ 2362.29236 ┆ null      ┆ … ┆ 2.379196  ┆ 2.400736  ┆ null      ┆ null      │\n",
       "│ std        ┆ 0.0    ┆ 1514.19674 ┆ null      ┆ … ┆ 0.974633  ┆ 0.912079  ┆ null      ┆ null      │\n",
       "│            ┆        ┆ 6          ┆           ┆   ┆           ┆           ┆           ┆           │\n",
       "│ min        ┆ 2021.0 ┆ 26.0       ┆ ARTES     ┆ … ┆ 0.0       ┆ 0.0       ┆ 1         ┆ Curso     │\n",
       "│            ┆        ┆            ┆ VISUAIS   ┆   ┆           ┆           ┆           ┆ para o    │\n",
       "│            ┆        ┆            ┆           ┆   ┆           ┆           ┆           ┆ qual esta │\n",
       "│            ┆        ┆            ┆           ┆   ┆           ┆           ┆           ┆ tisticame │\n",
       "│            ┆        ┆            ┆           ┆   ┆           ┆           ┆           ┆ n…        │\n",
       "│ 25%        ┆ 2021.0 ┆ 1402.0     ┆ null      ┆ … ┆ 1.679     ┆ 1.751     ┆ null      ┆ null      │\n",
       "│ 50%        ┆ 2021.0 ┆ 2001.0     ┆ null      ┆ … ┆ 2.32      ┆ 2.339     ┆ null      ┆ null      │\n",
       "│ 75%        ┆ 2021.0 ┆ 3501.0     ┆ null      ┆ … ┆ 3.029     ┆ 3.007     ┆ null      ┆ null      │\n",
       "│ max        ┆ 2021.0 ┆ 6409.0     ┆ TECNOLOGI ┆ … ┆ 5.0       ┆ 5.0       ┆ SC        ┆ Curso     │\n",
       "│            ┆        ┆            ┆ A EM      ┆   ┆           ┆           ┆           ┆ para o    │\n",
       "│            ┆        ┆            ┆ REDES DE  ┆   ┆           ┆           ┆           ┆ qual esta │\n",
       "│            ┆        ┆            ┆ COMPUTADO ┆   ┆           ┆           ┆           ┆ tisticame │\n",
       "│            ┆        ┆            ┆ …         ┆   ┆           ┆           ┆           ┆ n…        │\n",
       "└────────────┴────────┴────────────┴───────────┴───┴───────────┴───────────┴───────────┴───────────┘"
      ]
     },
     "execution_count": 7,
     "metadata": {},
     "output_type": "execute_result"
    }
   ],
   "source": [
    "enade.describe()"
   ]
  },
  {
   "cell_type": "code",
   "execution_count": 8,
   "metadata": {},
   "outputs": [
    {
     "data": {
      "text/html": [
       "<div><style>\n",
       ".dataframe > thead > tr,\n",
       ".dataframe > tbody > tr {\n",
       "  text-align: right;\n",
       "  white-space: pre-wrap;\n",
       "}\n",
       "</style>\n",
       "<small>shape: (0, 23)</small><table border=\"1\" class=\"dataframe\"><thead><tr><th>Ano</th><th>Código da Área</th><th>Área de Avaliação</th><th>Grau Acadêmico</th><th>Código da IES</th><th>Nome da IES</th><th>Sigla da IES*</th><th>Organização Acadêmica</th><th>Categoria Administrativa</th><th>Código do Curso</th><th>Modalidade de Ensino</th><th>Código do Município**</th><th>Município do Curso</th><th>Sigla da UF</th><th>Nº de Concluintes Inscritos</th><th>Nº  de Concluintes Participantes</th><th>Nota Bruta - FG</th><th>Nota Padronizada - FG</th><th>Nota Bruta - CE</th><th>Nota Padronizada - CE</th><th>Conceito Enade (Contínuo)</th><th>Conceito Enade (Faixa)</th><th>Observação</th></tr><tr><td>i64</td><td>i64</td><td>str</td><td>str</td><td>i64</td><td>str</td><td>str</td><td>str</td><td>str</td><td>i64</td><td>str</td><td>i64</td><td>str</td><td>str</td><td>i64</td><td>i64</td><td>f64</td><td>f64</td><td>f64</td><td>f64</td><td>f64</td><td>str</td><td>str</td></tr></thead><tbody></tbody></table></div>"
      ],
      "text/plain": [
       "shape: (0, 23)\n",
       "┌─────┬────────────┬────────────┬────────────┬───┬────────────┬────────────┬───────────┬───────────┐\n",
       "│ Ano ┆ Código da  ┆ Área de    ┆ Grau       ┆ … ┆ Nota Padro ┆ Conceito   ┆ Conceito  ┆ Observaçã │\n",
       "│ --- ┆ Área       ┆ Avaliação  ┆ Acadêmico  ┆   ┆ nizada -   ┆ Enade      ┆ Enade     ┆ o         │\n",
       "│ i64 ┆ ---        ┆ ---        ┆ ---        ┆   ┆ CE         ┆ (Contínuo) ┆ (Faixa)   ┆ ---       │\n",
       "│     ┆ i64        ┆ str        ┆ str        ┆   ┆ ---        ┆ ---        ┆ ---       ┆ str       │\n",
       "│     ┆            ┆            ┆            ┆   ┆ f64        ┆ f64        ┆ str       ┆           │\n",
       "╞═════╪════════════╪════════════╪════════════╪═══╪════════════╪════════════╪═══════════╪═══════════╡\n",
       "└─────┴────────────┴────────────┴────────────┴───┴────────────┴────────────┴───────────┴───────────┘"
      ]
     },
     "execution_count": 8,
     "metadata": {},
     "output_type": "execute_result"
    }
   ],
   "source": [
    "enade.filter(pl.col(\"Área de Avaliação\") == \"TURISMO\")"
   ]
  },
  {
   "cell_type": "code",
   "execution_count": 9,
   "metadata": {},
   "outputs": [
    {
     "data": {
      "text/plain": [
       "1970215"
      ]
     },
     "execution_count": 9,
     "metadata": {},
     "output_type": "execute_result"
    }
   ],
   "source": [
    "enade.estimated_size()"
   ]
  },
  {
   "cell_type": "code",
   "execution_count": 10,
   "metadata": {},
   "outputs": [
    {
     "data": {
      "text/html": [
       "<div><style>\n",
       ".dataframe > thead > tr,\n",
       ".dataframe > tbody > tr {\n",
       "  text-align: right;\n",
       "  white-space: pre-wrap;\n",
       "}\n",
       "</style>\n",
       "<small>shape: (5, 4)</small><table border=\"1\" class=\"dataframe\"><thead><tr><th>nrs</th><th>names</th><th>random</th><th>groups</th></tr><tr><td>i64</td><td>str</td><td>f64</td><td>str</td></tr></thead><tbody><tr><td>1</td><td>&quot;foo&quot;</td><td>0.006603</td><td>&quot;A&quot;</td></tr><tr><td>2</td><td>&quot;ham&quot;</td><td>0.376124</td><td>&quot;A&quot;</td></tr><tr><td>3</td><td>&quot;spam&quot;</td><td>0.172462</td><td>&quot;B&quot;</td></tr><tr><td>null</td><td>&quot;egg&quot;</td><td>0.529195</td><td>&quot;C&quot;</td></tr><tr><td>5</td><td>null</td><td>0.922752</td><td>&quot;B&quot;</td></tr></tbody></table></div>"
      ],
      "text/plain": [
       "shape: (5, 4)\n",
       "┌──────┬───────┬──────────┬────────┐\n",
       "│ nrs  ┆ names ┆ random   ┆ groups │\n",
       "│ ---  ┆ ---   ┆ ---      ┆ ---    │\n",
       "│ i64  ┆ str   ┆ f64      ┆ str    │\n",
       "╞══════╪═══════╪══════════╪════════╡\n",
       "│ 1    ┆ foo   ┆ 0.006603 ┆ A      │\n",
       "│ 2    ┆ ham   ┆ 0.376124 ┆ A      │\n",
       "│ 3    ┆ spam  ┆ 0.172462 ┆ B      │\n",
       "│ null ┆ egg   ┆ 0.529195 ┆ C      │\n",
       "│ 5    ┆ null  ┆ 0.922752 ┆ B      │\n",
       "└──────┴───────┴──────────┴────────┘"
      ]
     },
     "execution_count": 10,
     "metadata": {},
     "output_type": "execute_result"
    }
   ],
   "source": [
    "df = pl.DataFrame(\n",
    "    {\n",
    "        \"nrs\": [1, 2, 3, None, 5],\n",
    "        \"names\": [\"foo\", \"ham\", \"spam\", \"egg\", None],\n",
    "        \"random\": np.random.rand(5),\n",
    "        \"groups\": [\"A\", \"A\", \"B\", \"C\", \"B\"],\n",
    "    }\n",
    ")\n",
    "df"
   ]
  },
  {
   "cell_type": "code",
   "execution_count": 11,
   "metadata": {},
   "outputs": [
    {
     "data": {
      "text/html": [
       "<div><style>\n",
       ".dataframe > thead > tr,\n",
       ".dataframe > tbody > tr {\n",
       "  text-align: right;\n",
       "  white-space: pre-wrap;\n",
       "}\n",
       "</style>\n",
       "<small>shape: (5, 5)</small><table border=\"1\" class=\"dataframe\"><thead><tr><th>nrs * 2</th><th>nrs + 3</th><th>nrs / 2</th><th>nrs * random</th><th>nrs + random</th></tr><tr><td>i64</td><td>i64</td><td>f64</td><td>f64</td><td>f64</td></tr></thead><tbody><tr><td>2</td><td>4</td><td>0.5</td><td>0.006603</td><td>1.006603</td></tr><tr><td>4</td><td>5</td><td>1.0</td><td>0.752247</td><td>2.376124</td></tr><tr><td>6</td><td>6</td><td>1.5</td><td>0.517386</td><td>3.172462</td></tr><tr><td>null</td><td>null</td><td>null</td><td>null</td><td>null</td></tr><tr><td>10</td><td>8</td><td>2.5</td><td>4.613762</td><td>5.922752</td></tr></tbody></table></div>"
      ],
      "text/plain": [
       "shape: (5, 5)\n",
       "┌─────────┬─────────┬─────────┬──────────────┬──────────────┐\n",
       "│ nrs * 2 ┆ nrs + 3 ┆ nrs / 2 ┆ nrs * random ┆ nrs + random │\n",
       "│ ---     ┆ ---     ┆ ---     ┆ ---          ┆ ---          │\n",
       "│ i64     ┆ i64     ┆ f64     ┆ f64          ┆ f64          │\n",
       "╞═════════╪═════════╪═════════╪══════════════╪══════════════╡\n",
       "│ 2       ┆ 4       ┆ 0.5     ┆ 0.006603     ┆ 1.006603     │\n",
       "│ 4       ┆ 5       ┆ 1.0     ┆ 0.752247     ┆ 2.376124     │\n",
       "│ 6       ┆ 6       ┆ 1.5     ┆ 0.517386     ┆ 3.172462     │\n",
       "│ null    ┆ null    ┆ null    ┆ null         ┆ null         │\n",
       "│ 10      ┆ 8       ┆ 2.5     ┆ 4.613762     ┆ 5.922752     │\n",
       "└─────────┴─────────┴─────────┴──────────────┴──────────────┘"
      ]
     },
     "execution_count": 11,
     "metadata": {},
     "output_type": "execute_result"
    }
   ],
   "source": [
    "df.select(\n",
    "    (pl.col(\"nrs\") * 2).alias(\"nrs * 2\"),\n",
    "    (pl.col(\"nrs\") + 3).alias(\"nrs + 3\"),\n",
    "    (pl.col(\"nrs\") / 2).alias(\"nrs / 2\"),\n",
    "    (pl.col(\"nrs\") * pl.col(\"random\")).alias(\"nrs * random\"),\n",
    "    (pl.col(\"nrs\") + pl.col(\"random\")).alias(\"nrs + random\"),\n",
    ")"
   ]
  },
  {
   "cell_type": "code",
   "execution_count": 12,
   "metadata": {},
   "outputs": [
    {
     "data": {
      "text/html": [
       "<div><style>\n",
       ".dataframe > thead > tr,\n",
       ".dataframe > tbody > tr {\n",
       "  text-align: right;\n",
       "  white-space: pre-wrap;\n",
       "}\n",
       "</style>\n",
       "<small>shape: (5, 5)</small><table border=\"1\" class=\"dataframe\"><thead><tr><th>names uppercase</th><th>names lowercase</th><th>nrs &gt; 1</th><th>nrs</th><th>nrs &gt; 5 e impar</th></tr><tr><td>str</td><td>str</td><td>bool</td><td>i64</td><td>bool</td></tr></thead><tbody><tr><td>&quot;FOO&quot;</td><td>&quot;foo&quot;</td><td>false</td><td>1</td><td>false</td></tr><tr><td>&quot;HAM&quot;</td><td>&quot;ham&quot;</td><td>true</td><td>2</td><td>false</td></tr><tr><td>&quot;SPAM&quot;</td><td>&quot;spam&quot;</td><td>true</td><td>3</td><td>true</td></tr><tr><td>&quot;EGG&quot;</td><td>&quot;egg&quot;</td><td>null</td><td>null</td><td>null</td></tr><tr><td>null</td><td>null</td><td>true</td><td>5</td><td>true</td></tr></tbody></table></div>"
      ],
      "text/plain": [
       "shape: (5, 5)\n",
       "┌─────────────────┬─────────────────┬─────────┬──────┬─────────────────┐\n",
       "│ names uppercase ┆ names lowercase ┆ nrs > 1 ┆ nrs  ┆ nrs > 5 e impar │\n",
       "│ ---             ┆ ---             ┆ ---     ┆ ---  ┆ ---             │\n",
       "│ str             ┆ str             ┆ bool    ┆ i64  ┆ bool            │\n",
       "╞═════════════════╪═════════════════╪═════════╪══════╪═════════════════╡\n",
       "│ FOO             ┆ foo             ┆ false   ┆ 1    ┆ false           │\n",
       "│ HAM             ┆ ham             ┆ true    ┆ 2    ┆ false           │\n",
       "│ SPAM            ┆ spam            ┆ true    ┆ 3    ┆ true            │\n",
       "│ EGG             ┆ egg             ┆ null    ┆ null ┆ null            │\n",
       "│ null            ┆ null            ┆ true    ┆ 5    ┆ true            │\n",
       "└─────────────────┴─────────────────┴─────────┴──────┴─────────────────┘"
      ]
     },
     "execution_count": 12,
     "metadata": {},
     "output_type": "execute_result"
    }
   ],
   "source": [
    "df.select(\n",
    "    pl.col(\"names\").str.to_uppercase().alias(\"names uppercase\"),\n",
    "    pl.col(\"names\").str.to_lowercase().alias(\"names lowercase\"),\n",
    "    (pl.col(\"nrs\") > 1).alias(\"nrs > 1\"),\n",
    "    pl.col(\"nrs\"),\n",
    "    ((pl.col(\"nrs\") % 2 == 1) & (pl.col(\"nrs\") > 2)).alias(\"nrs > 5 e impar\"),\n",
    ")"
   ]
  },
  {
   "cell_type": "code",
   "execution_count": 13,
   "metadata": {},
   "outputs": [
    {
     "data": {
      "text/html": [
       "<div><style>\n",
       ".dataframe > thead > tr,\n",
       ".dataframe > tbody > tr {\n",
       "  text-align: right;\n",
       "  white-space: pre-wrap;\n",
       "}\n",
       "</style>\n",
       "<small>shape: (5, 4)</small><table border=\"1\" class=\"dataframe\"><thead><tr><th>nrs</th><th>names</th><th>random</th><th>groups</th></tr><tr><td>i64</td><td>str</td><td>f64</td><td>str</td></tr></thead><tbody><tr><td>1</td><td>&quot;foo&quot;</td><td>0.006603</td><td>&quot;A&quot;</td></tr><tr><td>2</td><td>&quot;ham&quot;</td><td>0.376124</td><td>&quot;A&quot;</td></tr><tr><td>3</td><td>&quot;spam&quot;</td><td>0.172462</td><td>&quot;B&quot;</td></tr><tr><td>null</td><td>&quot;egg&quot;</td><td>0.529195</td><td>&quot;C&quot;</td></tr><tr><td>5</td><td>null</td><td>0.922752</td><td>&quot;B&quot;</td></tr></tbody></table></div>"
      ],
      "text/plain": [
       "shape: (5, 4)\n",
       "┌──────┬───────┬──────────┬────────┐\n",
       "│ nrs  ┆ names ┆ random   ┆ groups │\n",
       "│ ---  ┆ ---   ┆ ---      ┆ ---    │\n",
       "│ i64  ┆ str   ┆ f64      ┆ str    │\n",
       "╞══════╪═══════╪══════════╪════════╡\n",
       "│ 1    ┆ foo   ┆ 0.006603 ┆ A      │\n",
       "│ 2    ┆ ham   ┆ 0.376124 ┆ A      │\n",
       "│ 3    ┆ spam  ┆ 0.172462 ┆ B      │\n",
       "│ null ┆ egg   ┆ 0.529195 ┆ C      │\n",
       "│ 5    ┆ null  ┆ 0.922752 ┆ B      │\n",
       "└──────┴───────┴──────────┴────────┘"
      ]
     },
     "execution_count": 13,
     "metadata": {},
     "output_type": "execute_result"
    }
   ],
   "source": [
    "df.select(pl.col(\"*\"))"
   ]
  },
  {
   "cell_type": "code",
   "execution_count": 14,
   "metadata": {},
   "outputs": [
    {
     "data": {
      "text/html": [
       "<div><style>\n",
       ".dataframe > thead > tr,\n",
       ".dataframe > tbody > tr {\n",
       "  text-align: right;\n",
       "  white-space: pre-wrap;\n",
       "}\n",
       "</style>\n",
       "<small>shape: (5, 2)</small><table border=\"1\" class=\"dataframe\"><thead><tr><th>nrs</th><th>groups</th></tr><tr><td>i64</td><td>str</td></tr></thead><tbody><tr><td>1</td><td>&quot;A&quot;</td></tr><tr><td>2</td><td>&quot;A&quot;</td></tr><tr><td>3</td><td>&quot;B&quot;</td></tr><tr><td>null</td><td>&quot;C&quot;</td></tr><tr><td>5</td><td>&quot;B&quot;</td></tr></tbody></table></div>"
      ],
      "text/plain": [
       "shape: (5, 2)\n",
       "┌──────┬────────┐\n",
       "│ nrs  ┆ groups │\n",
       "│ ---  ┆ ---    │\n",
       "│ i64  ┆ str    │\n",
       "╞══════╪════════╡\n",
       "│ 1    ┆ A      │\n",
       "│ 2    ┆ A      │\n",
       "│ 3    ┆ B      │\n",
       "│ null ┆ C      │\n",
       "│ 5    ┆ B      │\n",
       "└──────┴────────┘"
      ]
     },
     "execution_count": 14,
     "metadata": {},
     "output_type": "execute_result"
    }
   ],
   "source": [
    "df.select(pl.col(\"*\").exclude(\"random\", \"names\"))"
   ]
  },
  {
   "cell_type": "code",
   "execution_count": 15,
   "metadata": {},
   "outputs": [
    {
     "data": {
      "text/html": [
       "<div><style>\n",
       ".dataframe > thead > tr,\n",
       ".dataframe > tbody > tr {\n",
       "  text-align: right;\n",
       "  white-space: pre-wrap;\n",
       "}\n",
       "</style>\n",
       "<small>shape: (5, 2)</small><table border=\"1\" class=\"dataframe\"><thead><tr><th>names</th><th>groups</th></tr><tr><td>str</td><td>str</td></tr></thead><tbody><tr><td>&quot;foo&quot;</td><td>&quot;a&quot;</td></tr><tr><td>&quot;ham&quot;</td><td>&quot;a&quot;</td></tr><tr><td>&quot;spam&quot;</td><td>&quot;b&quot;</td></tr><tr><td>&quot;egg&quot;</td><td>&quot;c&quot;</td></tr><tr><td>null</td><td>&quot;b&quot;</td></tr></tbody></table></div>"
      ],
      "text/plain": [
       "shape: (5, 2)\n",
       "┌───────┬────────┐\n",
       "│ names ┆ groups │\n",
       "│ ---   ┆ ---    │\n",
       "│ str   ┆ str    │\n",
       "╞═══════╪════════╡\n",
       "│ foo   ┆ a      │\n",
       "│ ham   ┆ a      │\n",
       "│ spam  ┆ b      │\n",
       "│ egg   ┆ c      │\n",
       "│ null  ┆ b      │\n",
       "└───────┴────────┘"
      ]
     },
     "execution_count": 15,
     "metadata": {},
     "output_type": "execute_result"
    }
   ],
   "source": [
    "df.select(pl.col(\"names\", \"groups\").str.to_lowercase())"
   ]
  },
  {
   "cell_type": "code",
   "execution_count": 16,
   "metadata": {},
   "outputs": [
    {
     "data": {
      "text/html": [
       "<div><style>\n",
       ".dataframe > thead > tr,\n",
       ".dataframe > tbody > tr {\n",
       "  text-align: right;\n",
       "  white-space: pre-wrap;\n",
       "}\n",
       "</style>\n",
       "<small>shape: (1, 2)</small><table border=\"1\" class=\"dataframe\"><thead><tr><th>n_unique</th><th>approx_n_unique</th></tr><tr><td>u32</td><td>u32</td></tr></thead><tbody><tr><td>5</td><td>5</td></tr></tbody></table></div>"
      ],
      "text/plain": [
       "shape: (1, 2)\n",
       "┌──────────┬─────────────────┐\n",
       "│ n_unique ┆ approx_n_unique │\n",
       "│ ---      ┆ ---             │\n",
       "│ u32      ┆ u32             │\n",
       "╞══════════╪═════════════════╡\n",
       "│ 5        ┆ 5               │\n",
       "└──────────┴─────────────────┘"
      ]
     },
     "execution_count": 16,
     "metadata": {},
     "output_type": "execute_result"
    }
   ],
   "source": [
    "df.select(\n",
    "    pl.col(\"names\").n_unique().alias(\"n_unique\"),\n",
    "    pl.approx_n_unique(\"names\").alias(\"approx_n_unique\"),\n",
    ")"
   ]
  },
  {
   "cell_type": "code",
   "execution_count": 17,
   "metadata": {},
   "outputs": [
    {
     "data": {
      "text/html": [
       "<div><style>\n",
       ".dataframe > thead > tr,\n",
       ".dataframe > tbody > tr {\n",
       "  text-align: right;\n",
       "  white-space: pre-wrap;\n",
       "}\n",
       "</style>\n",
       "<small>shape: (5, 2)</small><table border=\"1\" class=\"dataframe\"><thead><tr><th>nrs</th><th>nrs &gt;= 2</th></tr><tr><td>i64</td><td>bool</td></tr></thead><tbody><tr><td>1</td><td>false</td></tr><tr><td>2</td><td>true</td></tr><tr><td>3</td><td>true</td></tr><tr><td>null</td><td>false</td></tr><tr><td>5</td><td>true</td></tr></tbody></table></div>"
      ],
      "text/plain": [
       "shape: (5, 2)\n",
       "┌──────┬──────────┐\n",
       "│ nrs  ┆ nrs >= 2 │\n",
       "│ ---  ┆ ---      │\n",
       "│ i64  ┆ bool     │\n",
       "╞══════╪══════════╡\n",
       "│ 1    ┆ false    │\n",
       "│ 2    ┆ true     │\n",
       "│ 3    ┆ true     │\n",
       "│ null ┆ false    │\n",
       "│ 5    ┆ true     │\n",
       "└──────┴──────────┘"
      ]
     },
     "execution_count": 17,
     "metadata": {},
     "output_type": "execute_result"
    }
   ],
   "source": [
    "df.select(\n",
    "    pl.col(\"nrs\"),\n",
    "    pl.when(pl.col(\"nrs\") >= 2)\n",
    "    .then(pl.lit(True))\n",
    "    .otherwise(pl.lit(False))\n",
    "    .alias(\"nrs >= 2\"),\n",
    ")"
   ]
  },
  {
   "cell_type": "code",
   "execution_count": 18,
   "metadata": {},
   "outputs": [
    {
     "data": {
      "text/html": [
       "<div><style>\n",
       ".dataframe > thead > tr,\n",
       ".dataframe > tbody > tr {\n",
       "  text-align: right;\n",
       "  white-space: pre-wrap;\n",
       "}\n",
       "</style>\n",
       "<small>shape: (5, 4)</small><table border=\"1\" class=\"dataframe\"><thead><tr><th>integers</th><th>big_integers</th><th>floats</th><th>floats_with_decimal</th></tr><tr><td>i64</td><td>i64</td><td>f64</td><td>f64</td></tr></thead><tbody><tr><td>1</td><td>1</td><td>4.0</td><td>4.532</td></tr><tr><td>2</td><td>10000002</td><td>5.0</td><td>5.5</td></tr><tr><td>3</td><td>3</td><td>6.0</td><td>6.5</td></tr><tr><td>4</td><td>10000004</td><td>7.0</td><td>7.5</td></tr><tr><td>5</td><td>10000005</td><td>8.0</td><td>8.5</td></tr></tbody></table></div>"
      ],
      "text/plain": [
       "shape: (5, 4)\n",
       "┌──────────┬──────────────┬────────┬─────────────────────┐\n",
       "│ integers ┆ big_integers ┆ floats ┆ floats_with_decimal │\n",
       "│ ---      ┆ ---          ┆ ---    ┆ ---                 │\n",
       "│ i64      ┆ i64          ┆ f64    ┆ f64                 │\n",
       "╞══════════╪══════════════╪════════╪═════════════════════╡\n",
       "│ 1        ┆ 1            ┆ 4.0    ┆ 4.532               │\n",
       "│ 2        ┆ 10000002     ┆ 5.0    ┆ 5.5                 │\n",
       "│ 3        ┆ 3            ┆ 6.0    ┆ 6.5                 │\n",
       "│ 4        ┆ 10000004     ┆ 7.0    ┆ 7.5                 │\n",
       "│ 5        ┆ 10000005     ┆ 8.0    ┆ 8.5                 │\n",
       "└──────────┴──────────────┴────────┴─────────────────────┘"
      ]
     },
     "execution_count": 18,
     "metadata": {},
     "output_type": "execute_result"
    }
   ],
   "source": [
    "df_num = pl.DataFrame(\n",
    "    {\n",
    "        \"integers\": [1, 2, 3, 4, 5],\n",
    "        \"big_integers\": [1, 10000002, 3, 10000004, 10000005],\n",
    "        \"floats\": [4.0, 5.0, 6.0, 7.0, 8.0],\n",
    "        \"floats_with_decimal\": [4.532, 5.5, 6.5, 7.5, 8.5],\n",
    "    }\n",
    ")\n",
    "\n",
    "df_num"
   ]
  },
  {
   "cell_type": "code",
   "execution_count": 19,
   "metadata": {},
   "outputs": [
    {
     "data": {
      "text/html": [
       "<div><style>\n",
       ".dataframe > thead > tr,\n",
       ".dataframe > tbody > tr {\n",
       "  text-align: right;\n",
       "  white-space: pre-wrap;\n",
       "}\n",
       "</style>\n",
       "<small>shape: (5, 3)</small><table border=\"1\" class=\"dataframe\"><thead><tr><th>integers_as_floats</th><th>floats_as_integers</th><th>floats_with_decimal_as_integers</th></tr><tr><td>f32</td><td>i16</td><td>i16</td></tr></thead><tbody><tr><td>1.0</td><td>4</td><td>4</td></tr><tr><td>2.0</td><td>5</td><td>5</td></tr><tr><td>3.0</td><td>6</td><td>6</td></tr><tr><td>4.0</td><td>7</td><td>7</td></tr><tr><td>5.0</td><td>8</td><td>8</td></tr></tbody></table></div>"
      ],
      "text/plain": [
       "shape: (5, 3)\n",
       "┌────────────────────┬────────────────────┬─────────────────────────────────┐\n",
       "│ integers_as_floats ┆ floats_as_integers ┆ floats_with_decimal_as_integers │\n",
       "│ ---                ┆ ---                ┆ ---                             │\n",
       "│ f32                ┆ i16                ┆ i16                             │\n",
       "╞════════════════════╪════════════════════╪═════════════════════════════════╡\n",
       "│ 1.0                ┆ 4                  ┆ 4                               │\n",
       "│ 2.0                ┆ 5                  ┆ 5                               │\n",
       "│ 3.0                ┆ 6                  ┆ 6                               │\n",
       "│ 4.0                ┆ 7                  ┆ 7                               │\n",
       "│ 5.0                ┆ 8                  ┆ 8                               │\n",
       "└────────────────────┴────────────────────┴─────────────────────────────────┘"
      ]
     },
     "execution_count": 19,
     "metadata": {},
     "output_type": "execute_result"
    }
   ],
   "source": [
    "df_num.select(\n",
    "    pl.col(\"integers\").cast(pl.Float32).alias(\"integers_as_floats\"),\n",
    "    pl.col(\"floats\").cast(pl.Int16).alias(\"floats_as_integers\"),\n",
    "    pl.col(\"floats_with_decimal\")\n",
    "    .cast(pl.Int16)\n",
    "    .alias(\"floats_with_decimal_as_integers\"),\n",
    ")"
   ]
  },
  {
   "cell_type": "code",
   "execution_count": 20,
   "metadata": {},
   "outputs": [
    {
     "data": {
      "text/html": [
       "<div><style>\n",
       ".dataframe > thead > tr,\n",
       ".dataframe > tbody > tr {\n",
       "  text-align: right;\n",
       "  white-space: pre-wrap;\n",
       "}\n",
       "</style>\n",
       "<small>shape: (5, 2)</small><table border=\"1\" class=\"dataframe\"><thead><tr><th>integers</th><th>integers_as_Int8</th></tr><tr><td>i64</td><td>i8</td></tr></thead><tbody><tr><td>1</td><td>1</td></tr><tr><td>2</td><td>2</td></tr><tr><td>3</td><td>3</td></tr><tr><td>4</td><td>4</td></tr><tr><td>5</td><td>5</td></tr></tbody></table></div>"
      ],
      "text/plain": [
       "shape: (5, 2)\n",
       "┌──────────┬──────────────────┐\n",
       "│ integers ┆ integers_as_Int8 │\n",
       "│ ---      ┆ ---              │\n",
       "│ i64      ┆ i8               │\n",
       "╞══════════╪══════════════════╡\n",
       "│ 1        ┆ 1                │\n",
       "│ 2        ┆ 2                │\n",
       "│ 3        ┆ 3                │\n",
       "│ 4        ┆ 4                │\n",
       "│ 5        ┆ 5                │\n",
       "└──────────┴──────────────────┘"
      ]
     },
     "execution_count": 20,
     "metadata": {},
     "output_type": "execute_result"
    }
   ],
   "source": [
    "df_num.select(\n",
    "    pl.col(\"integers\"),\n",
    "    pl.col(\"integers\").cast(pl.Int8).alias(\"integers_as_Int8\"),\n",
    ")"
   ]
  },
  {
   "cell_type": "code",
   "execution_count": 21,
   "metadata": {},
   "outputs": [
    {
     "data": {
      "text/html": [
       "<div><style>\n",
       ".dataframe > thead > tr,\n",
       ".dataframe > tbody > tr {\n",
       "  text-align: right;\n",
       "  white-space: pre-wrap;\n",
       "}\n",
       "</style>\n",
       "<small>shape: (4, 1)</small><table border=\"1\" class=\"dataframe\"><thead><tr><th>animal</th></tr><tr><td>str</td></tr></thead><tbody><tr><td>&quot;Crab&quot;</td></tr><tr><td>&quot;cat and dog&quot;</td></tr><tr><td>&quot;rab$bit&quot;</td></tr><tr><td>null</td></tr></tbody></table></div>"
      ],
      "text/plain": [
       "shape: (4, 1)\n",
       "┌─────────────┐\n",
       "│ animal      │\n",
       "│ ---         │\n",
       "│ str         │\n",
       "╞═════════════╡\n",
       "│ Crab        │\n",
       "│ cat and dog │\n",
       "│ rab$bit     │\n",
       "│ null        │\n",
       "└─────────────┘"
      ]
     },
     "execution_count": 21,
     "metadata": {},
     "output_type": "execute_result"
    }
   ],
   "source": [
    "df_str = pl.DataFrame({\"animal\": [\"Crab\", \"cat and dog\", \"rab$bit\", None]})\n",
    "\n",
    "df_str"
   ]
  },
  {
   "cell_type": "code",
   "execution_count": 22,
   "metadata": {},
   "outputs": [
    {
     "data": {
      "text/html": [
       "<div><style>\n",
       ".dataframe > thead > tr,\n",
       ".dataframe > tbody > tr {\n",
       "  text-align: right;\n",
       "  white-space: pre-wrap;\n",
       "}\n",
       "</style>\n",
       "<small>shape: (4, 2)</small><table border=\"1\" class=\"dataframe\"><thead><tr><th>byte_count</th><th>letter_count</th></tr><tr><td>u32</td><td>u32</td></tr></thead><tbody><tr><td>4</td><td>4</td></tr><tr><td>11</td><td>11</td></tr><tr><td>7</td><td>7</td></tr><tr><td>null</td><td>null</td></tr></tbody></table></div>"
      ],
      "text/plain": [
       "shape: (4, 2)\n",
       "┌────────────┬──────────────┐\n",
       "│ byte_count ┆ letter_count │\n",
       "│ ---        ┆ ---          │\n",
       "│ u32        ┆ u32          │\n",
       "╞════════════╪══════════════╡\n",
       "│ 4          ┆ 4            │\n",
       "│ 11         ┆ 11           │\n",
       "│ 7          ┆ 7            │\n",
       "│ null       ┆ null         │\n",
       "└────────────┴──────────────┘"
      ]
     },
     "execution_count": 22,
     "metadata": {},
     "output_type": "execute_result"
    }
   ],
   "source": [
    "df_str.select(\n",
    "    pl.col(\"animal\").str.len_bytes().alias(\"byte_count\"),\n",
    "    pl.col(\"animal\").str.len_chars().alias(\"letter_count\"),\n",
    ")"
   ]
  },
  {
   "cell_type": "code",
   "execution_count": 23,
   "metadata": {},
   "outputs": [
    {
     "data": {
      "text/html": [
       "<div><style>\n",
       ".dataframe > thead > tr,\n",
       ".dataframe > tbody > tr {\n",
       "  text-align: right;\n",
       "  white-space: pre-wrap;\n",
       "}\n",
       "</style>\n",
       "<small>shape: (12_142, 36)</small><table border=\"1\" class=\"dataframe\"><thead><tr><th>last_name</th><th>first_name</th><th>middle_name</th><th>suffix</th><th>nickname</th><th>full_name</th><th>birthday</th><th>gender</th><th>type</th><th>state</th><th>district</th><th>senate_class</th><th>party</th><th>url</th><th>address</th><th>phone</th><th>contact_form</th><th>rss_url</th><th>twitter</th><th>twitter_id</th><th>facebook</th><th>youtube</th><th>youtube_id</th><th>mastodon</th><th>bioguide_id</th><th>thomas_id</th><th>opensecrets_id</th><th>lis_id</th><th>fec_ids</th><th>cspan_id</th><th>govtrack_id</th><th>votesmart_id</th><th>ballotpedia_id</th><th>washington_post_id</th><th>icpsr_id</th><th>wikipedia_id</th></tr><tr><td>str</td><td>cat</td><td>str</td><td>str</td><td>str</td><td>str</td><td>date</td><td>cat</td><td>cat</td><td>cat</td><td>i64</td><td>i64</td><td>cat</td><td>str</td><td>str</td><td>str</td><td>str</td><td>str</td><td>str</td><td>str</td><td>str</td><td>str</td><td>str</td><td>str</td><td>str</td><td>str</td><td>str</td><td>str</td><td>str</td><td>str</td><td>i64</td><td>str</td><td>str</td><td>str</td><td>i64</td><td>str</td></tr></thead><tbody><tr><td>&quot;Bassett&quot;</td><td>&quot;Richard&quot;</td><td>null</td><td>null</td><td>null</td><td>null</td><td>1745-04-02</td><td>&quot;M&quot;</td><td>&quot;sen&quot;</td><td>&quot;DE&quot;</td><td>null</td><td>2</td><td>&quot;Anti-Administr…</td><td>null</td><td>null</td><td>null</td><td>null</td><td>null</td><td>null</td><td>null</td><td>null</td><td>null</td><td>null</td><td>null</td><td>&quot;B000226&quot;</td><td>null</td><td>null</td><td>null</td><td>null</td><td>null</td><td>401222</td><td>null</td><td>null</td><td>null</td><td>507</td><td>&quot;Richard Basset…</td></tr><tr><td>&quot;Bland&quot;</td><td>&quot;Theodorick&quot;</td><td>null</td><td>null</td><td>null</td><td>null</td><td>1742-03-21</td><td>&quot;M&quot;</td><td>&quot;rep&quot;</td><td>&quot;VA&quot;</td><td>9</td><td>null</td><td>null</td><td>null</td><td>null</td><td>null</td><td>null</td><td>null</td><td>null</td><td>null</td><td>null</td><td>null</td><td>null</td><td>null</td><td>&quot;B000546&quot;</td><td>null</td><td>null</td><td>null</td><td>null</td><td>null</td><td>401521</td><td>null</td><td>null</td><td>null</td><td>786</td><td>&quot;Theodorick Bla…</td></tr><tr><td>&quot;Burke&quot;</td><td>&quot;Aedanus&quot;</td><td>null</td><td>null</td><td>null</td><td>null</td><td>1743-06-16</td><td>&quot;M&quot;</td><td>&quot;rep&quot;</td><td>&quot;SC&quot;</td><td>2</td><td>null</td><td>null</td><td>null</td><td>null</td><td>null</td><td>null</td><td>null</td><td>null</td><td>null</td><td>null</td><td>null</td><td>null</td><td>null</td><td>&quot;B001086&quot;</td><td>null</td><td>null</td><td>null</td><td>null</td><td>null</td><td>402032</td><td>null</td><td>null</td><td>null</td><td>1260</td><td>&quot;Aedanus Burke&quot;</td></tr><tr><td>&quot;Carroll&quot;</td><td>&quot;Daniel&quot;</td><td>null</td><td>null</td><td>null</td><td>null</td><td>1730-07-22</td><td>&quot;M&quot;</td><td>&quot;rep&quot;</td><td>&quot;MD&quot;</td><td>6</td><td>null</td><td>null</td><td>null</td><td>null</td><td>null</td><td>null</td><td>null</td><td>null</td><td>null</td><td>null</td><td>null</td><td>null</td><td>null</td><td>&quot;C000187&quot;</td><td>null</td><td>null</td><td>null</td><td>null</td><td>null</td><td>402334</td><td>null</td><td>null</td><td>null</td><td>1538</td><td>&quot;Daniel Carroll…</td></tr><tr><td>&quot;Clymer&quot;</td><td>&quot;George&quot;</td><td>null</td><td>null</td><td>null</td><td>null</td><td>1739-03-16</td><td>&quot;M&quot;</td><td>&quot;rep&quot;</td><td>&quot;PA&quot;</td><td>-1</td><td>null</td><td>null</td><td>null</td><td>null</td><td>null</td><td>null</td><td>null</td><td>null</td><td>null</td><td>null</td><td>null</td><td>null</td><td>null</td><td>&quot;C000538&quot;</td><td>null</td><td>null</td><td>null</td><td>null</td><td>null</td><td>402671</td><td>null</td><td>null</td><td>null</td><td>1859</td><td>&quot;George Clymer&quot;</td></tr><tr><td>&hellip;</td><td>&hellip;</td><td>&hellip;</td><td>&hellip;</td><td>&hellip;</td><td>&hellip;</td><td>&hellip;</td><td>&hellip;</td><td>&hellip;</td><td>&hellip;</td><td>&hellip;</td><td>&hellip;</td><td>&hellip;</td><td>&hellip;</td><td>&hellip;</td><td>&hellip;</td><td>&hellip;</td><td>&hellip;</td><td>&hellip;</td><td>&hellip;</td><td>&hellip;</td><td>&hellip;</td><td>&hellip;</td><td>&hellip;</td><td>&hellip;</td><td>&hellip;</td><td>&hellip;</td><td>&hellip;</td><td>&hellip;</td><td>&hellip;</td><td>&hellip;</td><td>&hellip;</td><td>&hellip;</td><td>&hellip;</td><td>&hellip;</td><td>&hellip;</td></tr><tr><td>&quot;Stewart&quot;</td><td>&quot;Chris&quot;</td><td>null</td><td>null</td><td>null</td><td>&quot;Chris Stewart&quot;</td><td>1960-07-15</td><td>&quot;M&quot;</td><td>&quot;rep&quot;</td><td>&quot;UT&quot;</td><td>2</td><td>null</td><td>&quot;Republican&quot;</td><td>&quot;https://stewar…</td><td>&quot;166 Cannon Hou…</td><td>&quot;202-225-9730&quot;</td><td>null</td><td>&quot;http://stewart…</td><td>null</td><td>null</td><td>null</td><td>null</td><td>null</td><td>null</td><td>&quot;S001192&quot;</td><td>&quot;02168&quot;</td><td>&quot;N00033932&quot;</td><td>null</td><td>&quot;H2UT02324&quot;</td><td>&quot;68466&quot;</td><td>412581</td><td>&quot;135930&quot;</td><td>&quot;Chris Stewart&quot;</td><td>null</td><td>21367</td><td>&quot;Chris Stewart …</td></tr><tr><td>&quot;Santos&quot;</td><td>&quot;George&quot;</td><td>&quot;Anthony Devold…</td><td>null</td><td>null</td><td>&quot;George Santos&quot;</td><td>1988-07-22</td><td>&quot;M&quot;</td><td>&quot;rep&quot;</td><td>&quot;NY&quot;</td><td>3</td><td>null</td><td>&quot;Republican&quot;</td><td>&quot;https://santos…</td><td>&quot;1117 Longworth…</td><td>&quot;202-225-3335&quot;</td><td>null</td><td>null</td><td>null</td><td>null</td><td>null</td><td>null</td><td>null</td><td>null</td><td>&quot;S001222&quot;</td><td>null</td><td>null</td><td>null</td><td>&quot;H0NY03083&quot;</td><td>null</td><td>456921</td><td>&quot;191234&quot;</td><td>&quot;George Devolde…</td><td>null</td><td>null</td><td>&quot;George Santos&quot;</td></tr><tr><td>&quot;McCarthy&quot;</td><td>&quot;Kevin&quot;</td><td>null</td><td>null</td><td>null</td><td>&quot;Kevin McCarthy…</td><td>1965-01-26</td><td>&quot;M&quot;</td><td>&quot;rep&quot;</td><td>&quot;CA&quot;</td><td>20</td><td>null</td><td>&quot;Republican&quot;</td><td>&quot;https://kevinm…</td><td>&quot;2468 Rayburn H…</td><td>&quot;202-225-2915&quot;</td><td>null</td><td>&quot;http://kevinmc…</td><td>null</td><td>null</td><td>null</td><td>null</td><td>null</td><td>null</td><td>&quot;M001165&quot;</td><td>&quot;01833&quot;</td><td>&quot;N00028152&quot;</td><td>null</td><td>&quot;H6CA22125&quot;</td><td>&quot;85231&quot;</td><td>412190</td><td>&quot;28918&quot;</td><td>&quot;Kevin McCarthy…</td><td>null</td><td>20703</td><td>&quot;Kevin McCarthy…</td></tr><tr><td>&quot;Johnson&quot;</td><td>&quot;Bill&quot;</td><td>null</td><td>null</td><td>null</td><td>&quot;Bill Johnson&quot;</td><td>1954-11-10</td><td>&quot;M&quot;</td><td>&quot;rep&quot;</td><td>&quot;OH&quot;</td><td>6</td><td>null</td><td>&quot;Republican&quot;</td><td>&quot;https://billjo…</td><td>&quot;2082 Rayburn H…</td><td>&quot;202-225-5705&quot;</td><td>null</td><td>&quot;http://billjoh…</td><td>null</td><td>null</td><td>null</td><td>null</td><td>null</td><td>null</td><td>&quot;J000292&quot;</td><td>&quot;02046&quot;</td><td>&quot;N00032088&quot;</td><td>null</td><td>&quot;H0OH06189&quot;</td><td>&quot;623472&quot;</td><td>412460</td><td>&quot;120649&quot;</td><td>&quot;Bill Johnson (…</td><td>null</td><td>21162</td><td>&quot;Bill Johnson (…</td></tr><tr><td>&quot;Higgins&quot;</td><td>&quot;Brian&quot;</td><td>&quot;M.&quot;</td><td>null</td><td>null</td><td>&quot;Brian Higgins&quot;</td><td>1959-10-06</td><td>&quot;M&quot;</td><td>&quot;rep&quot;</td><td>&quot;NY&quot;</td><td>26</td><td>null</td><td>&quot;Democrat&quot;</td><td>&quot;https://higgin…</td><td>&quot;2269 Rayburn H…</td><td>&quot;202-225-3306&quot;</td><td>null</td><td>&quot;http://higgins…</td><td>null</td><td>null</td><td>null</td><td>null</td><td>null</td><td>null</td><td>&quot;H001038&quot;</td><td>&quot;01794&quot;</td><td>&quot;N00027060&quot;</td><td>null</td><td>&quot;H4NY27076&quot;</td><td>&quot;1013050&quot;</td><td>400641</td><td>&quot;23127&quot;</td><td>&quot;Brian Higgins&quot;</td><td>null</td><td>20519</td><td>&quot;Brian Higgins&quot;</td></tr></tbody></table></div>"
      ],
      "text/plain": [
       "shape: (12_142, 36)\n",
       "┌───────────┬────────────┬────────────┬────────┬───┬────────────┬───────────┬──────────┬───────────┐\n",
       "│ last_name ┆ first_name ┆ middle_nam ┆ suffix ┆ … ┆ ballotpedi ┆ washingto ┆ icpsr_id ┆ wikipedia │\n",
       "│ ---       ┆ ---        ┆ e          ┆ ---    ┆   ┆ a_id       ┆ n_post_id ┆ ---      ┆ _id       │\n",
       "│ str       ┆ cat        ┆ ---        ┆ str    ┆   ┆ ---        ┆ ---       ┆ i64      ┆ ---       │\n",
       "│           ┆            ┆ str        ┆        ┆   ┆ str        ┆ str       ┆          ┆ str       │\n",
       "╞═══════════╪════════════╪════════════╪════════╪═══╪════════════╪═══════════╪══════════╪═══════════╡\n",
       "│ Bassett   ┆ Richard    ┆ null       ┆ null   ┆ … ┆ null       ┆ null      ┆ 507      ┆ Richard   │\n",
       "│           ┆            ┆            ┆        ┆   ┆            ┆           ┆          ┆ Bassett   │\n",
       "│           ┆            ┆            ┆        ┆   ┆            ┆           ┆          ┆ (Delaware │\n",
       "│           ┆            ┆            ┆        ┆   ┆            ┆           ┆          ┆ politi…   │\n",
       "│ Bland     ┆ Theodorick ┆ null       ┆ null   ┆ … ┆ null       ┆ null      ┆ 786      ┆ Theodoric │\n",
       "│           ┆            ┆            ┆        ┆   ┆            ┆           ┆          ┆ k Bland   │\n",
       "│           ┆            ┆            ┆        ┆   ┆            ┆           ┆          ┆ (congress │\n",
       "│           ┆            ┆            ┆        ┆   ┆            ┆           ┆          ┆ man)      │\n",
       "│ Burke     ┆ Aedanus    ┆ null       ┆ null   ┆ … ┆ null       ┆ null      ┆ 1260     ┆ Aedanus   │\n",
       "│           ┆            ┆            ┆        ┆   ┆            ┆           ┆          ┆ Burke     │\n",
       "│ Carroll   ┆ Daniel     ┆ null       ┆ null   ┆ … ┆ null       ┆ null      ┆ 1538     ┆ Daniel    │\n",
       "│           ┆            ┆            ┆        ┆   ┆            ┆           ┆          ┆ Carroll   │\n",
       "│ Clymer    ┆ George     ┆ null       ┆ null   ┆ … ┆ null       ┆ null      ┆ 1859     ┆ George    │\n",
       "│           ┆            ┆            ┆        ┆   ┆            ┆           ┆          ┆ Clymer    │\n",
       "│ …         ┆ …          ┆ …          ┆ …      ┆ … ┆ …          ┆ …         ┆ …        ┆ …         │\n",
       "│ Stewart   ┆ Chris      ┆ null       ┆ null   ┆ … ┆ Chris      ┆ null      ┆ 21367    ┆ Chris     │\n",
       "│           ┆            ┆            ┆        ┆   ┆ Stewart    ┆           ┆          ┆ Stewart   │\n",
       "│           ┆            ┆            ┆        ┆   ┆            ┆           ┆          ┆ (politici │\n",
       "│           ┆            ┆            ┆        ┆   ┆            ┆           ┆          ┆ an)       │\n",
       "│ Santos    ┆ George     ┆ Anthony    ┆ null   ┆ … ┆ George Dev ┆ null      ┆ null     ┆ George    │\n",
       "│           ┆            ┆ Devolder   ┆        ┆   ┆ older-Sant ┆           ┆          ┆ Santos    │\n",
       "│           ┆            ┆            ┆        ┆   ┆ os         ┆           ┆          ┆           │\n",
       "│ McCarthy  ┆ Kevin      ┆ null       ┆ null   ┆ … ┆ Kevin      ┆ null      ┆ 20703    ┆ Kevin     │\n",
       "│           ┆            ┆            ┆        ┆   ┆ McCarthy   ┆           ┆          ┆ McCarthy  │\n",
       "│           ┆            ┆            ┆        ┆   ┆ (Californi ┆           ┆          ┆           │\n",
       "│           ┆            ┆            ┆        ┆   ┆ a)         ┆           ┆          ┆           │\n",
       "│ Johnson   ┆ Bill       ┆ null       ┆ null   ┆ … ┆ Bill       ┆ null      ┆ 21162    ┆ Bill      │\n",
       "│           ┆            ┆            ┆        ┆   ┆ Johnson    ┆           ┆          ┆ Johnson   │\n",
       "│           ┆            ┆            ┆        ┆   ┆ (Ohio)     ┆           ┆          ┆ (Ohio pol │\n",
       "│           ┆            ┆            ┆        ┆   ┆            ┆           ┆          ┆ itician)  │\n",
       "│ Higgins   ┆ Brian      ┆ M.         ┆ null   ┆ … ┆ Brian      ┆ null      ┆ 20519    ┆ Brian     │\n",
       "│           ┆            ┆            ┆        ┆   ┆ Higgins    ┆           ┆          ┆ Higgins   │\n",
       "└───────────┴────────────┴────────────┴────────┴───┴────────────┴───────────┴──────────┴───────────┘"
      ]
     },
     "execution_count": 23,
     "metadata": {},
     "output_type": "execute_result"
    }
   ],
   "source": [
    "url = (\n",
    "    \"https://theunitedstates.io/congress-legislators/legislators-historical.csv\"\n",
    ")\n",
    "\n",
    "dtypes = {\n",
    "    \"first_name\": pl.Categorical,\n",
    "    \"gender\": pl.Categorical,\n",
    "    \"type\": pl.Categorical,\n",
    "    \"state\": pl.Categorical,\n",
    "    \"party\": pl.Categorical,\n",
    "}\n",
    "\n",
    "dataset = pl.read_csv(url, dtypes=dtypes).with_columns(\n",
    "    pl.col(\"birthday\").str.to_date(strict=False)\n",
    ")\n",
    "\n",
    "dataset"
   ]
  },
  {
   "cell_type": "code",
   "execution_count": 24,
   "metadata": {},
   "outputs": [
    {
     "data": {
      "text/html": [
       "<div><style>\n",
       ".dataframe > thead > tr,\n",
       ".dataframe > tbody > tr {\n",
       "  text-align: right;\n",
       "  white-space: pre-wrap;\n",
       "}\n",
       "</style>\n",
       "<small>shape: (5, 4)</small><table border=\"1\" class=\"dataframe\"><thead><tr><th>first_name</th><th>count</th><th>gender</th><th>last_name</th></tr><tr><td>cat</td><td>u32</td><td>list[cat]</td><td>str</td></tr></thead><tbody><tr><td>&quot;John&quot;</td><td>1256</td><td>[&quot;M&quot;, &quot;M&quot;, … &quot;M&quot;]</td><td>&quot;Walker&quot;</td></tr><tr><td>&quot;William&quot;</td><td>1022</td><td>[&quot;M&quot;, &quot;M&quot;, … &quot;M&quot;]</td><td>&quot;Few&quot;</td></tr><tr><td>&quot;James&quot;</td><td>714</td><td>[&quot;M&quot;, &quot;M&quot;, … &quot;M&quot;]</td><td>&quot;Armstrong&quot;</td></tr><tr><td>&quot;Thomas&quot;</td><td>453</td><td>[&quot;M&quot;, &quot;M&quot;, … &quot;M&quot;]</td><td>&quot;Tucker&quot;</td></tr><tr><td>&quot;Charles&quot;</td><td>439</td><td>[&quot;M&quot;, &quot;M&quot;, … &quot;M&quot;]</td><td>&quot;Carroll&quot;</td></tr></tbody></table></div>"
      ],
      "text/plain": [
       "shape: (5, 4)\n",
       "┌────────────┬───────┬───────────────────┬───────────┐\n",
       "│ first_name ┆ count ┆ gender            ┆ last_name │\n",
       "│ ---        ┆ ---   ┆ ---               ┆ ---       │\n",
       "│ cat        ┆ u32   ┆ list[cat]         ┆ str       │\n",
       "╞════════════╪═══════╪═══════════════════╪═══════════╡\n",
       "│ John       ┆ 1256  ┆ [\"M\", \"M\", … \"M\"] ┆ Walker    │\n",
       "│ William    ┆ 1022  ┆ [\"M\", \"M\", … \"M\"] ┆ Few       │\n",
       "│ James      ┆ 714   ┆ [\"M\", \"M\", … \"M\"] ┆ Armstrong │\n",
       "│ Thomas     ┆ 453   ┆ [\"M\", \"M\", … \"M\"] ┆ Tucker    │\n",
       "│ Charles    ┆ 439   ┆ [\"M\", \"M\", … \"M\"] ┆ Carroll   │\n",
       "└────────────┴───────┴───────────────────┴───────────┘"
      ]
     },
     "execution_count": 24,
     "metadata": {},
     "output_type": "execute_result"
    }
   ],
   "source": [
    "(\n",
    "    dataset.lazy()\n",
    "    .group_by(\"first_name\")\n",
    "    .agg(\n",
    "        pl.col(\"last_name\").count().alias(\"count\"),\n",
    "        pl.col(\"gender\"),\n",
    "        pl.col(\"last_name\").first(),\n",
    "    )\n",
    "    .sort(\"count\", descending=True)\n",
    "    .limit(5)\n",
    "    .collect()\n",
    ")"
   ]
  },
  {
   "cell_type": "code",
   "execution_count": 25,
   "metadata": {},
   "outputs": [
    {
     "data": {
      "text/html": [
       "<div><style>\n",
       ".dataframe > thead > tr,\n",
       ".dataframe > tbody > tr {\n",
       "  text-align: right;\n",
       "  white-space: pre-wrap;\n",
       "}\n",
       "</style>\n",
       "<small>shape: (58, 3)</small><table border=\"1\" class=\"dataframe\"><thead><tr><th>state</th><th>anti</th><th>pro</th></tr><tr><td>cat</td><td>u32</td><td>u32</td></tr></thead><tbody><tr><td>&quot;CT&quot;</td><td>0</td><td>3</td></tr><tr><td>&quot;NJ&quot;</td><td>0</td><td>3</td></tr><tr><td>&quot;NC&quot;</td><td>1</td><td>2</td></tr><tr><td>&quot;SC&quot;</td><td>0</td><td>1</td></tr><tr><td>&quot;PA&quot;</td><td>1</td><td>1</td></tr><tr><td>&hellip;</td><td>&hellip;</td><td>&hellip;</td></tr><tr><td>&quot;MO&quot;</td><td>0</td><td>0</td></tr><tr><td>&quot;AR&quot;</td><td>0</td><td>0</td></tr><tr><td>&quot;OR&quot;</td><td>0</td><td>0</td></tr><tr><td>&quot;AZ&quot;</td><td>0</td><td>0</td></tr><tr><td>&quot;CA&quot;</td><td>0</td><td>0</td></tr></tbody></table></div>"
      ],
      "text/plain": [
       "shape: (58, 3)\n",
       "┌───────┬──────┬─────┐\n",
       "│ state ┆ anti ┆ pro │\n",
       "│ ---   ┆ ---  ┆ --- │\n",
       "│ cat   ┆ u32  ┆ u32 │\n",
       "╞═══════╪══════╪═════╡\n",
       "│ CT    ┆ 0    ┆ 3   │\n",
       "│ NJ    ┆ 0    ┆ 3   │\n",
       "│ NC    ┆ 1    ┆ 2   │\n",
       "│ SC    ┆ 0    ┆ 1   │\n",
       "│ PA    ┆ 1    ┆ 1   │\n",
       "│ …     ┆ …    ┆ …   │\n",
       "│ MO    ┆ 0    ┆ 0   │\n",
       "│ AR    ┆ 0    ┆ 0   │\n",
       "│ OR    ┆ 0    ┆ 0   │\n",
       "│ AZ    ┆ 0    ┆ 0   │\n",
       "│ CA    ┆ 0    ┆ 0   │\n",
       "└───────┴──────┴─────┘"
      ]
     },
     "execution_count": 25,
     "metadata": {},
     "output_type": "execute_result"
    }
   ],
   "source": [
    "(\n",
    "    dataset.lazy()\n",
    "    .group_by(\"state\")\n",
    "    .agg(\n",
    "        (pl.col(\"party\") == \"Anti-Administration\").sum().alias(\"anti\"),\n",
    "        (pl.col(\"party\") == \"Pro-Administration\").sum().alias(\"pro\"),\n",
    "    )\n",
    "    .sort(\"pro\", descending=True)\n",
    "    .collect()\n",
    ")"
   ]
  },
  {
   "cell_type": "code",
   "execution_count": 26,
   "metadata": {},
   "outputs": [
    {
     "data": {
      "text/html": [
       "<div><style>\n",
       ".dataframe > thead > tr,\n",
       ".dataframe > tbody > tr {\n",
       "  text-align: right;\n",
       "  white-space: pre-wrap;\n",
       "}\n",
       "</style>\n",
       "<small>shape: (58, 3)</small><table border=\"1\" class=\"dataframe\"><thead><tr><th>state</th><th>youngest</th><th>oldest</th></tr><tr><td>cat</td><td>str</td><td>str</td></tr></thead><tbody><tr><td>&quot;NM&quot;</td><td>&quot;Xochitl Torres…</td><td>&quot;José Gallegos&quot;</td></tr><tr><td>&quot;CT&quot;</td><td>&quot;Samuel Simons&quot;</td><td>&quot;Roger Sherman&quot;</td></tr><tr><td>&quot;MS&quot;</td><td>&quot;Charles Hooker…</td><td>&quot;Thomas Greene&quot;</td></tr><tr><td>&quot;NY&quot;</td><td>&quot;Robert Baker&quot;</td><td>&quot;Philip Schuyle…</td></tr><tr><td>&quot;WV&quot;</td><td>&quot;John Hutchinso…</td><td>&quot;Daniel Polsley…</td></tr><tr><td>&hellip;</td><td>&hellip;</td><td>&hellip;</td></tr><tr><td>&quot;NE&quot;</td><td>&quot;Samuel Daily&quot;</td><td>&quot;Experience Est…</td></tr><tr><td>&quot;MA&quot;</td><td>&quot;John Bailey&quot;</td><td>&quot;Artemas Ward&quot;</td></tr><tr><td>&quot;IN&quot;</td><td>&quot;Joseph White&quot;</td><td>&quot;John Test&quot;</td></tr><tr><td>&quot;HI&quot;</td><td>&quot;Tulsi Gabbard&quot;</td><td>&quot;Robert Wilcox&quot;</td></tr><tr><td>&quot;OH&quot;</td><td>&quot;Amos Townsend&quot;</td><td>&quot;Paul Fearing&quot;</td></tr></tbody></table></div>"
      ],
      "text/plain": [
       "shape: (58, 3)\n",
       "┌───────┬──────────────────────┬──────────────────────┐\n",
       "│ state ┆ youngest             ┆ oldest               │\n",
       "│ ---   ┆ ---                  ┆ ---                  │\n",
       "│ cat   ┆ str                  ┆ str                  │\n",
       "╞═══════╪══════════════════════╪══════════════════════╡\n",
       "│ NM    ┆ Xochitl Torres Small ┆ José Gallegos        │\n",
       "│ CT    ┆ Samuel Simons        ┆ Roger Sherman        │\n",
       "│ MS    ┆ Charles Hooker       ┆ Thomas Greene        │\n",
       "│ NY    ┆ Robert Baker         ┆ Philip Schuyler      │\n",
       "│ WV    ┆ John Hutchinson      ┆ Daniel Polsley       │\n",
       "│ …     ┆ …                    ┆ …                    │\n",
       "│ NE    ┆ Samuel Daily         ┆ Experience Estabrook │\n",
       "│ MA    ┆ John Bailey          ┆ Artemas Ward         │\n",
       "│ IN    ┆ Joseph White         ┆ John Test            │\n",
       "│ HI    ┆ Tulsi Gabbard        ┆ Robert Wilcox        │\n",
       "│ OH    ┆ Amos Townsend        ┆ Paul Fearing         │\n",
       "└───────┴──────────────────────┴──────────────────────┘"
      ]
     },
     "execution_count": 26,
     "metadata": {},
     "output_type": "execute_result"
    }
   ],
   "source": [
    "def get_person() -> pl.Expr:\n",
    "    return pl.col(\"first_name\") + pl.lit(\" \") + pl.col(\"last_name\")\n",
    "\n",
    "\n",
    "(\n",
    "    dataset.lazy()\n",
    "    .sort(\"birthday\", descending=True)\n",
    "    .group_by(\"state\")\n",
    "    .agg(\n",
    "        get_person().first().alias(\"youngest\"),\n",
    "        get_person().last().alias(\"oldest\"),\n",
    "    )\n",
    "    .collect()\n",
    ")"
   ]
  },
  {
   "cell_type": "code",
   "execution_count": 27,
   "metadata": {},
   "outputs": [
    {
     "data": {
      "text/html": [
       "<div><style>\n",
       ".dataframe > thead > tr,\n",
       ".dataframe > tbody > tr {\n",
       "  text-align: right;\n",
       "  white-space: pre-wrap;\n",
       "}\n",
       "</style>\n",
       "<small>shape: (58, 4)</small><table border=\"1\" class=\"dataframe\"><thead><tr><th>state</th><th>youngest</th><th>oldest</th><th>alphabetical_first</th></tr><tr><td>cat</td><td>str</td><td>str</td><td>str</td></tr></thead><tbody><tr><td>&quot;OR&quot;</td><td>&quot;George Shiel&quot;</td><td>&quot;Joseph Lane&quot;</td><td>&quot;Abraham Laffer…</td></tr><tr><td>&quot;PR&quot;</td><td>&quot;Aníbal Acevedo…</td><td>&quot;Tulio Larrinag…</td><td>&quot;Antonio Colora…</td></tr><tr><td>&quot;AR&quot;</td><td>&quot;William Sebast…</td><td>&quot;James Bates&quot;</td><td>&quot;Albert Rust&quot;</td></tr><tr><td>&quot;PA&quot;</td><td>&quot;John Robbins&quot;</td><td>&quot;Israel Jacobs&quot;</td><td>&quot;Aaron Kreider&quot;</td></tr><tr><td>&quot;TN&quot;</td><td>&quot;Brookins Campb…</td><td>&quot;John Sevier&quot;</td><td>&quot;Aaron Brown&quot;</td></tr><tr><td>&hellip;</td><td>&hellip;</td><td>&hellip;</td><td>&hellip;</td></tr><tr><td>&quot;SC&quot;</td><td>&quot;James Black&quot;</td><td>&quot;Thomas Sumter&quot;</td><td>&quot;Abraham Nott&quot;</td></tr><tr><td>&quot;ID&quot;</td><td>&quot;Raúl Labrador&quot;</td><td>&quot;William Wallac…</td><td>&quot;Abe Goff&quot;</td></tr><tr><td>&quot;WI&quot;</td><td>&quot;Sean Duffy&quot;</td><td>&quot;Henry Dodge&quot;</td><td>&quot;Adolphus Nelso…</td></tr><tr><td>&quot;ND&quot;</td><td>&quot;Rick Berg&quot;</td><td>&quot;Lyman Casey&quot;</td><td>&quot;Arthur Link&quot;</td></tr><tr><td>&quot;VI&quot;</td><td>&quot;Donna Christen…</td><td>&quot;Melvin Evans&quot;</td><td>&quot;Donna Christen…</td></tr></tbody></table></div>"
      ],
      "text/plain": [
       "shape: (58, 4)\n",
       "┌───────┬─────────────────────┬─────────────────┬────────────────────┐\n",
       "│ state ┆ youngest            ┆ oldest          ┆ alphabetical_first │\n",
       "│ ---   ┆ ---                 ┆ ---             ┆ ---                │\n",
       "│ cat   ┆ str                 ┆ str             ┆ str                │\n",
       "╞═══════╪═════════════════════╪═════════════════╪════════════════════╡\n",
       "│ OR    ┆ George Shiel        ┆ Joseph Lane     ┆ Abraham Lafferty   │\n",
       "│ PR    ┆ Aníbal Acevedo-Vilá ┆ Tulio Larrinaga ┆ Antonio Colorado   │\n",
       "│ AR    ┆ William Sebastian   ┆ James Bates     ┆ Albert Rust        │\n",
       "│ PA    ┆ John Robbins        ┆ Israel Jacobs   ┆ Aaron Kreider      │\n",
       "│ TN    ┆ Brookins Campbell   ┆ John Sevier     ┆ Aaron Brown        │\n",
       "│ …     ┆ …                   ┆ …               ┆ …                  │\n",
       "│ SC    ┆ James Black         ┆ Thomas Sumter   ┆ Abraham Nott       │\n",
       "│ ID    ┆ Raúl Labrador       ┆ William Wallace ┆ Abe Goff           │\n",
       "│ WI    ┆ Sean Duffy          ┆ Henry Dodge     ┆ Adolphus Nelson    │\n",
       "│ ND    ┆ Rick Berg           ┆ Lyman Casey     ┆ Arthur Link        │\n",
       "│ VI    ┆ Donna Christensen   ┆ Melvin Evans    ┆ Donna Christensen  │\n",
       "└───────┴─────────────────────┴─────────────────┴────────────────────┘"
      ]
     },
     "execution_count": 27,
     "metadata": {},
     "output_type": "execute_result"
    }
   ],
   "source": [
    "(\n",
    "    dataset.lazy()\n",
    "    .sort(\"birthday\", descending=True)\n",
    "    .group_by(\"state\")\n",
    "    .agg(\n",
    "        get_person().first().alias(\"youngest\"),\n",
    "        get_person().last().alias(\"oldest\"),\n",
    "        get_person().sort().first().alias(\"alphabetical_first\"),\n",
    "    )\n",
    "    .collect()\n",
    ")"
   ]
  },
  {
   "cell_type": "code",
   "execution_count": 28,
   "metadata": {},
   "outputs": [
    {
     "data": {
      "text/html": [
       "<div><style>\n",
       ".dataframe > thead > tr,\n",
       ".dataframe > tbody > tr {\n",
       "  text-align: right;\n",
       "  white-space: pre-wrap;\n",
       "}\n",
       "</style>\n",
       "<small>shape: (1, 36)</small><table border=\"1\" class=\"dataframe\"><thead><tr><th>last_name</th><th>first_name</th><th>middle_name</th><th>suffix</th><th>nickname</th><th>full_name</th><th>birthday</th><th>gender</th><th>type</th><th>state</th><th>district</th><th>senate_class</th><th>party</th><th>url</th><th>address</th><th>phone</th><th>contact_form</th><th>rss_url</th><th>twitter</th><th>twitter_id</th><th>facebook</th><th>youtube</th><th>youtube_id</th><th>mastodon</th><th>bioguide_id</th><th>thomas_id</th><th>opensecrets_id</th><th>lis_id</th><th>fec_ids</th><th>cspan_id</th><th>govtrack_id</th><th>votesmart_id</th><th>ballotpedia_id</th><th>washington_post_id</th><th>icpsr_id</th><th>wikipedia_id</th></tr><tr><td>u32</td><td>u32</td><td>u32</td><td>u32</td><td>u32</td><td>u32</td><td>u32</td><td>u32</td><td>u32</td><td>u32</td><td>u32</td><td>u32</td><td>u32</td><td>u32</td><td>u32</td><td>u32</td><td>u32</td><td>u32</td><td>u32</td><td>u32</td><td>u32</td><td>u32</td><td>u32</td><td>u32</td><td>u32</td><td>u32</td><td>u32</td><td>u32</td><td>u32</td><td>u32</td><td>u32</td><td>u32</td><td>u32</td><td>u32</td><td>u32</td><td>u32</td></tr></thead><tbody><tr><td>0</td><td>0</td><td>3709</td><td>11714</td><td>11905</td><td>11630</td><td>542</td><td>0</td><td>0</td><td>0</td><td>1849</td><td>10293</td><td>232</td><td>11328</td><td>11622</td><td>11626</td><td>11901</td><td>11844</td><td>12142</td><td>12142</td><td>12142</td><td>12142</td><td>12142</td><td>12142</td><td>0</td><td>10228</td><td>11308</td><td>11931</td><td>11433</td><td>11598</td><td>0</td><td>11413</td><td>11758</td><td>12142</td><td>223</td><td>0</td></tr></tbody></table></div>"
      ],
      "text/plain": [
       "shape: (1, 36)\n",
       "┌───────────┬────────────┬────────────┬────────┬───┬────────────┬───────────┬──────────┬───────────┐\n",
       "│ last_name ┆ first_name ┆ middle_nam ┆ suffix ┆ … ┆ ballotpedi ┆ washingto ┆ icpsr_id ┆ wikipedia │\n",
       "│ ---       ┆ ---        ┆ e          ┆ ---    ┆   ┆ a_id       ┆ n_post_id ┆ ---      ┆ _id       │\n",
       "│ u32       ┆ u32        ┆ ---        ┆ u32    ┆   ┆ ---        ┆ ---       ┆ u32      ┆ ---       │\n",
       "│           ┆            ┆ u32        ┆        ┆   ┆ u32        ┆ u32       ┆          ┆ u32       │\n",
       "╞═══════════╪════════════╪════════════╪════════╪═══╪════════════╪═══════════╪══════════╪═══════════╡\n",
       "│ 0         ┆ 0          ┆ 3709       ┆ 11714  ┆ … ┆ 11758      ┆ 12142     ┆ 223      ┆ 0         │\n",
       "└───────────┴────────────┴────────────┴────────┴───┴────────────┴───────────┴──────────┴───────────┘"
      ]
     },
     "execution_count": 28,
     "metadata": {},
     "output_type": "execute_result"
    }
   ],
   "source": [
    "(dataset.lazy().null_count().collect())"
   ]
  },
  {
   "cell_type": "code",
   "execution_count": 29,
   "metadata": {},
   "outputs": [
    {
     "data": {
      "text/html": [
       "<div><style>\n",
       ".dataframe > thead > tr,\n",
       ".dataframe > tbody > tr {\n",
       "  text-align: right;\n",
       "  white-space: pre-wrap;\n",
       "}\n",
       "</style>\n",
       "<small>shape: (1, 1)</small><table border=\"1\" class=\"dataframe\"><thead><tr><th>middle_name_nulls</th></tr><tr><td>u32</td></tr></thead><tbody><tr><td>3709</td></tr></tbody></table></div>"
      ],
      "text/plain": [
       "shape: (1, 1)\n",
       "┌───────────────────┐\n",
       "│ middle_name_nulls │\n",
       "│ ---               │\n",
       "│ u32               │\n",
       "╞═══════════════════╡\n",
       "│ 3709              │\n",
       "└───────────────────┘"
      ]
     },
     "execution_count": 29,
     "metadata": {},
     "output_type": "execute_result"
    }
   ],
   "source": [
    "(\n",
    "    dataset.lazy()\n",
    "    .select(pl.col(\"middle_name\").is_null().sum().alias(\"middle_name_nulls\"))\n",
    "    .collect()\n",
    ")"
   ]
  },
  {
   "cell_type": "code",
   "execution_count": 30,
   "metadata": {},
   "outputs": [
    {
     "data": {
      "text/html": [
       "<div><style>\n",
       ".dataframe > thead > tr,\n",
       ".dataframe > tbody > tr {\n",
       "  text-align: right;\n",
       "  white-space: pre-wrap;\n",
       "}\n",
       "</style>\n",
       "<small>shape: (3, 2)</small><table border=\"1\" class=\"dataframe\"><thead><tr><th>col1</th><th>col2</th></tr><tr><td>i64</td><td>i64</td></tr></thead><tbody><tr><td>1</td><td>1</td></tr><tr><td>2</td><td>null</td></tr><tr><td>3</td><td>3</td></tr></tbody></table></div>"
      ],
      "text/plain": [
       "shape: (3, 2)\n",
       "┌──────┬──────┐\n",
       "│ col1 ┆ col2 │\n",
       "│ ---  ┆ ---  │\n",
       "│ i64  ┆ i64  │\n",
       "╞══════╪══════╡\n",
       "│ 1    ┆ 1    │\n",
       "│ 2    ┆ null │\n",
       "│ 3    ┆ 3    │\n",
       "└──────┴──────┘"
      ]
     },
     "execution_count": 30,
     "metadata": {},
     "output_type": "execute_result"
    }
   ],
   "source": [
    "df_filling_missing_data = pl.DataFrame(\n",
    "    {\n",
    "        \"col1\": [1, 2, 3],\n",
    "        \"col2\": [1, None, 3],\n",
    "    },\n",
    ")\n",
    "df_filling_missing_data"
   ]
  },
  {
   "cell_type": "code",
   "execution_count": 31,
   "metadata": {},
   "outputs": [
    {
     "data": {
      "text/html": [
       "<div><style>\n",
       ".dataframe > thead > tr,\n",
       ".dataframe > tbody > tr {\n",
       "  text-align: right;\n",
       "  white-space: pre-wrap;\n",
       "}\n",
       "</style>\n",
       "<small>shape: (3, 2)</small><table border=\"1\" class=\"dataframe\"><thead><tr><th>col1</th><th>col2</th></tr><tr><td>i64</td><td>i64</td></tr></thead><tbody><tr><td>1</td><td>1</td></tr><tr><td>2</td><td>2</td></tr><tr><td>3</td><td>3</td></tr></tbody></table></div>"
      ],
      "text/plain": [
       "shape: (3, 2)\n",
       "┌──────┬──────┐\n",
       "│ col1 ┆ col2 │\n",
       "│ ---  ┆ ---  │\n",
       "│ i64  ┆ i64  │\n",
       "╞══════╪══════╡\n",
       "│ 1    ┆ 1    │\n",
       "│ 2    ┆ 2    │\n",
       "│ 3    ┆ 3    │\n",
       "└──────┴──────┘"
      ]
     },
     "execution_count": 31,
     "metadata": {},
     "output_type": "execute_result"
    }
   ],
   "source": [
    "(\n",
    "    df_filling_missing_data.lazy()\n",
    "    .with_columns(pl.col(\"col2\").fill_null(pl.lit(2)))\n",
    "    .collect()\n",
    ")"
   ]
  },
  {
   "cell_type": "code",
   "execution_count": 32,
   "metadata": {},
   "outputs": [
    {
     "data": {
      "text/html": [
       "<div><style>\n",
       ".dataframe > thead > tr,\n",
       ".dataframe > tbody > tr {\n",
       "  text-align: right;\n",
       "  white-space: pre-wrap;\n",
       "}\n",
       "</style>\n",
       "<small>shape: (3, 2)</small><table border=\"1\" class=\"dataframe\"><thead><tr><th>col1</th><th>col2</th></tr><tr><td>i64</td><td>i64</td></tr></thead><tbody><tr><td>1</td><td>1</td></tr><tr><td>2</td><td>1</td></tr><tr><td>3</td><td>3</td></tr></tbody></table></div>"
      ],
      "text/plain": [
       "shape: (3, 2)\n",
       "┌──────┬──────┐\n",
       "│ col1 ┆ col2 │\n",
       "│ ---  ┆ ---  │\n",
       "│ i64  ┆ i64  │\n",
       "╞══════╪══════╡\n",
       "│ 1    ┆ 1    │\n",
       "│ 2    ┆ 1    │\n",
       "│ 3    ┆ 3    │\n",
       "└──────┴──────┘"
      ]
     },
     "execution_count": 32,
     "metadata": {},
     "output_type": "execute_result"
    }
   ],
   "source": [
    "(\n",
    "    df_filling_missing_data.lazy()\n",
    "    .with_columns(pl.col(\"col2\").fill_null(strategy=\"forward\"))\n",
    "    .collect()\n",
    ")"
   ]
  },
  {
   "cell_type": "code",
   "execution_count": 33,
   "metadata": {},
   "outputs": [
    {
     "data": {
      "text/html": [
       "<div><style>\n",
       ".dataframe > thead > tr,\n",
       ".dataframe > tbody > tr {\n",
       "  text-align: right;\n",
       "  white-space: pre-wrap;\n",
       "}\n",
       "</style>\n",
       "<small>shape: (3, 2)</small><table border=\"1\" class=\"dataframe\"><thead><tr><th>col1</th><th>col2</th></tr><tr><td>i64</td><td>f64</td></tr></thead><tbody><tr><td>1</td><td>1.0</td></tr><tr><td>2</td><td>2.0</td></tr><tr><td>3</td><td>3.0</td></tr></tbody></table></div>"
      ],
      "text/plain": [
       "shape: (3, 2)\n",
       "┌──────┬──────┐\n",
       "│ col1 ┆ col2 │\n",
       "│ ---  ┆ ---  │\n",
       "│ i64  ┆ f64  │\n",
       "╞══════╪══════╡\n",
       "│ 1    ┆ 1.0  │\n",
       "│ 2    ┆ 2.0  │\n",
       "│ 3    ┆ 3.0  │\n",
       "└──────┴──────┘"
      ]
     },
     "execution_count": 33,
     "metadata": {},
     "output_type": "execute_result"
    }
   ],
   "source": [
    "(\n",
    "    df_filling_missing_data.lazy()\n",
    "    .with_columns(pl.col(\"col2\").fill_null(pl.median(\"col2\")))\n",
    "    .collect()\n",
    ")"
   ]
  },
  {
   "cell_type": "code",
   "execution_count": 34,
   "metadata": {},
   "outputs": [
    {
     "data": {
      "text/html": [
       "<div><style>\n",
       ".dataframe > thead > tr,\n",
       ".dataframe > tbody > tr {\n",
       "  text-align: right;\n",
       "  white-space: pre-wrap;\n",
       "}\n",
       "</style>\n",
       "<small>shape: (3, 2)</small><table border=\"1\" class=\"dataframe\"><thead><tr><th>col1</th><th>col2</th></tr><tr><td>i64</td><td>i64</td></tr></thead><tbody><tr><td>1</td><td>1</td></tr><tr><td>2</td><td>3</td></tr><tr><td>3</td><td>3</td></tr></tbody></table></div>"
      ],
      "text/plain": [
       "shape: (3, 2)\n",
       "┌──────┬──────┐\n",
       "│ col1 ┆ col2 │\n",
       "│ ---  ┆ ---  │\n",
       "│ i64  ┆ i64  │\n",
       "╞══════╪══════╡\n",
       "│ 1    ┆ 1    │\n",
       "│ 2    ┆ 3    │\n",
       "│ 3    ┆ 3    │\n",
       "└──────┴──────┘"
      ]
     },
     "execution_count": 34,
     "metadata": {},
     "output_type": "execute_result"
    }
   ],
   "source": [
    "(\n",
    "    df_filling_missing_data.lazy()\n",
    "    .with_columns(pl.col(\"col2\").fill_null(strategy=\"backward\"))\n",
    "    .collect()\n",
    ")"
   ]
  },
  {
   "cell_type": "code",
   "execution_count": 35,
   "metadata": {},
   "outputs": [
    {
     "data": {
      "text/html": [
       "<div><style>\n",
       ".dataframe > thead > tr,\n",
       ".dataframe > tbody > tr {\n",
       "  text-align: right;\n",
       "  white-space: pre-wrap;\n",
       "}\n",
       "</style>\n",
       "<small>shape: (3, 2)</small><table border=\"1\" class=\"dataframe\"><thead><tr><th>col1</th><th>col2</th></tr><tr><td>i64</td><td>f64</td></tr></thead><tbody><tr><td>1</td><td>1.0</td></tr><tr><td>2</td><td>2.0</td></tr><tr><td>3</td><td>3.0</td></tr></tbody></table></div>"
      ],
      "text/plain": [
       "shape: (3, 2)\n",
       "┌──────┬──────┐\n",
       "│ col1 ┆ col2 │\n",
       "│ ---  ┆ ---  │\n",
       "│ i64  ┆ f64  │\n",
       "╞══════╪══════╡\n",
       "│ 1    ┆ 1.0  │\n",
       "│ 2    ┆ 2.0  │\n",
       "│ 3    ┆ 3.0  │\n",
       "└──────┴──────┘"
      ]
     },
     "execution_count": 35,
     "metadata": {},
     "output_type": "execute_result"
    }
   ],
   "source": [
    "(\n",
    "    df_filling_missing_data.lazy()\n",
    "    .with_columns(pl.col(\"col2\").interpolate())\n",
    "    .collect()\n",
    ")"
   ]
  },
  {
   "cell_type": "code",
   "execution_count": 36,
   "metadata": {},
   "outputs": [
    {
     "data": {
      "text/html": [
       "<div><style>\n",
       ".dataframe > thead > tr,\n",
       ".dataframe > tbody > tr {\n",
       "  text-align: right;\n",
       "  white-space: pre-wrap;\n",
       "}\n",
       "</style>\n",
       "<small>shape: (163, 13)</small><table border=\"1\" class=\"dataframe\"><thead><tr><th>#</th><th>Name</th><th>Type 1</th><th>Type 2</th><th>Total</th><th>HP</th><th>Attack</th><th>Defense</th><th>Sp. Atk</th><th>Sp. Def</th><th>Speed</th><th>Generation</th><th>Legendary</th></tr><tr><td>i64</td><td>str</td><td>str</td><td>str</td><td>i64</td><td>i64</td><td>i64</td><td>i64</td><td>i64</td><td>i64</td><td>i64</td><td>i64</td><td>bool</td></tr></thead><tbody><tr><td>1</td><td>&quot;Bulbasaur&quot;</td><td>&quot;Grass&quot;</td><td>&quot;Poison&quot;</td><td>318</td><td>45</td><td>49</td><td>49</td><td>65</td><td>65</td><td>45</td><td>1</td><td>false</td></tr><tr><td>2</td><td>&quot;Ivysaur&quot;</td><td>&quot;Grass&quot;</td><td>&quot;Poison&quot;</td><td>405</td><td>60</td><td>62</td><td>63</td><td>80</td><td>80</td><td>60</td><td>1</td><td>false</td></tr><tr><td>3</td><td>&quot;Venusaur&quot;</td><td>&quot;Grass&quot;</td><td>&quot;Poison&quot;</td><td>525</td><td>80</td><td>82</td><td>83</td><td>100</td><td>100</td><td>80</td><td>1</td><td>false</td></tr><tr><td>3</td><td>&quot;VenusaurMega V…</td><td>&quot;Grass&quot;</td><td>&quot;Poison&quot;</td><td>625</td><td>80</td><td>100</td><td>123</td><td>122</td><td>120</td><td>80</td><td>1</td><td>false</td></tr><tr><td>4</td><td>&quot;Charmander&quot;</td><td>&quot;Fire&quot;</td><td>null</td><td>309</td><td>39</td><td>52</td><td>43</td><td>60</td><td>50</td><td>65</td><td>1</td><td>false</td></tr><tr><td>&hellip;</td><td>&hellip;</td><td>&hellip;</td><td>&hellip;</td><td>&hellip;</td><td>&hellip;</td><td>&hellip;</td><td>&hellip;</td><td>&hellip;</td><td>&hellip;</td><td>&hellip;</td><td>&hellip;</td><td>&hellip;</td></tr><tr><td>146</td><td>&quot;Moltres&quot;</td><td>&quot;Fire&quot;</td><td>&quot;Flying&quot;</td><td>580</td><td>90</td><td>100</td><td>90</td><td>125</td><td>85</td><td>90</td><td>1</td><td>true</td></tr><tr><td>147</td><td>&quot;Dratini&quot;</td><td>&quot;Dragon&quot;</td><td>null</td><td>300</td><td>41</td><td>64</td><td>45</td><td>50</td><td>50</td><td>50</td><td>1</td><td>false</td></tr><tr><td>148</td><td>&quot;Dragonair&quot;</td><td>&quot;Dragon&quot;</td><td>null</td><td>420</td><td>61</td><td>84</td><td>65</td><td>70</td><td>70</td><td>70</td><td>1</td><td>false</td></tr><tr><td>149</td><td>&quot;Dragonite&quot;</td><td>&quot;Dragon&quot;</td><td>&quot;Flying&quot;</td><td>600</td><td>91</td><td>134</td><td>95</td><td>100</td><td>100</td><td>80</td><td>1</td><td>false</td></tr><tr><td>150</td><td>&quot;Mewtwo&quot;</td><td>&quot;Psychic&quot;</td><td>null</td><td>680</td><td>106</td><td>110</td><td>90</td><td>154</td><td>90</td><td>130</td><td>1</td><td>true</td></tr></tbody></table></div>"
      ],
      "text/plain": [
       "shape: (163, 13)\n",
       "┌─────┬───────────────────────┬─────────┬────────┬───┬─────────┬───────┬────────────┬───────────┐\n",
       "│ #   ┆ Name                  ┆ Type 1  ┆ Type 2 ┆ … ┆ Sp. Def ┆ Speed ┆ Generation ┆ Legendary │\n",
       "│ --- ┆ ---                   ┆ ---     ┆ ---    ┆   ┆ ---     ┆ ---   ┆ ---        ┆ ---       │\n",
       "│ i64 ┆ str                   ┆ str     ┆ str    ┆   ┆ i64     ┆ i64   ┆ i64        ┆ bool      │\n",
       "╞═════╪═══════════════════════╪═════════╪════════╪═══╪═════════╪═══════╪════════════╪═══════════╡\n",
       "│ 1   ┆ Bulbasaur             ┆ Grass   ┆ Poison ┆ … ┆ 65      ┆ 45    ┆ 1          ┆ false     │\n",
       "│ 2   ┆ Ivysaur               ┆ Grass   ┆ Poison ┆ … ┆ 80      ┆ 60    ┆ 1          ┆ false     │\n",
       "│ 3   ┆ Venusaur              ┆ Grass   ┆ Poison ┆ … ┆ 100     ┆ 80    ┆ 1          ┆ false     │\n",
       "│ 3   ┆ VenusaurMega Venusaur ┆ Grass   ┆ Poison ┆ … ┆ 120     ┆ 80    ┆ 1          ┆ false     │\n",
       "│ 4   ┆ Charmander            ┆ Fire    ┆ null   ┆ … ┆ 50      ┆ 65    ┆ 1          ┆ false     │\n",
       "│ …   ┆ …                     ┆ …       ┆ …      ┆ … ┆ …       ┆ …     ┆ …          ┆ …         │\n",
       "│ 146 ┆ Moltres               ┆ Fire    ┆ Flying ┆ … ┆ 85      ┆ 90    ┆ 1          ┆ true      │\n",
       "│ 147 ┆ Dratini               ┆ Dragon  ┆ null   ┆ … ┆ 50      ┆ 50    ┆ 1          ┆ false     │\n",
       "│ 148 ┆ Dragonair             ┆ Dragon  ┆ null   ┆ … ┆ 70      ┆ 70    ┆ 1          ┆ false     │\n",
       "│ 149 ┆ Dragonite             ┆ Dragon  ┆ Flying ┆ … ┆ 100     ┆ 80    ┆ 1          ┆ false     │\n",
       "│ 150 ┆ Mewtwo                ┆ Psychic ┆ null   ┆ … ┆ 90      ┆ 130   ┆ 1          ┆ true      │\n",
       "└─────┴───────────────────────┴─────────┴────────┴───┴─────────┴───────┴────────────┴───────────┘"
      ]
     },
     "execution_count": 36,
     "metadata": {},
     "output_type": "execute_result"
    }
   ],
   "source": [
    "pokemon = pl.read_csv(\n",
    "    \"https://gist.githubusercontent.com/ritchie46/cac6b337ea52281aa23c049250a4ff03/raw/89a957ff3919d90e6ef2d34235e6bf22304f3366/pokemon.csv\"\n",
    ")\n",
    "\n",
    "pokemon"
   ]
  },
  {
   "cell_type": "code",
   "execution_count": 37,
   "metadata": {},
   "outputs": [
    {
     "data": {
      "text/html": [
       "<div><style>\n",
       ".dataframe > thead > tr,\n",
       ".dataframe > tbody > tr {\n",
       "  text-align: right;\n",
       "  white-space: pre-wrap;\n",
       "}\n",
       "</style>\n",
       "<small>shape: (163, 5)</small><table border=\"1\" class=\"dataframe\"><thead><tr><th>Type 1</th><th>Type 2</th><th>avg_attack_by_type</th><th>avg_defense_by_type_combination</th><th>avg_attack</th></tr><tr><td>str</td><td>str</td><td>f64</td><td>f64</td><td>f64</td></tr></thead><tbody><tr><td>&quot;Grass&quot;</td><td>&quot;Poison&quot;</td><td>72.923077</td><td>67.8</td><td>75.349693</td></tr><tr><td>&quot;Grass&quot;</td><td>&quot;Poison&quot;</td><td>72.923077</td><td>67.8</td><td>75.349693</td></tr><tr><td>&quot;Grass&quot;</td><td>&quot;Poison&quot;</td><td>72.923077</td><td>67.8</td><td>75.349693</td></tr><tr><td>&quot;Grass&quot;</td><td>&quot;Poison&quot;</td><td>72.923077</td><td>67.8</td><td>75.349693</td></tr><tr><td>&quot;Fire&quot;</td><td>null</td><td>88.642857</td><td>58.3</td><td>75.349693</td></tr><tr><td>&hellip;</td><td>&hellip;</td><td>&hellip;</td><td>&hellip;</td><td>&hellip;</td></tr><tr><td>&quot;Fire&quot;</td><td>&quot;Flying&quot;</td><td>88.642857</td><td>82.0</td><td>75.349693</td></tr><tr><td>&quot;Dragon&quot;</td><td>null</td><td>94.0</td><td>55.0</td><td>75.349693</td></tr><tr><td>&quot;Dragon&quot;</td><td>null</td><td>94.0</td><td>55.0</td><td>75.349693</td></tr><tr><td>&quot;Dragon&quot;</td><td>&quot;Flying&quot;</td><td>94.0</td><td>95.0</td><td>75.349693</td></tr><tr><td>&quot;Psychic&quot;</td><td>null</td><td>53.875</td><td>51.428571</td><td>75.349693</td></tr></tbody></table></div>"
      ],
      "text/plain": [
       "shape: (163, 5)\n",
       "┌─────────┬────────┬────────────────────┬─────────────────────────────────┬────────────┐\n",
       "│ Type 1  ┆ Type 2 ┆ avg_attack_by_type ┆ avg_defense_by_type_combination ┆ avg_attack │\n",
       "│ ---     ┆ ---    ┆ ---                ┆ ---                             ┆ ---        │\n",
       "│ str     ┆ str    ┆ f64                ┆ f64                             ┆ f64        │\n",
       "╞═════════╪════════╪════════════════════╪═════════════════════════════════╪════════════╡\n",
       "│ Grass   ┆ Poison ┆ 72.923077          ┆ 67.8                            ┆ 75.349693  │\n",
       "│ Grass   ┆ Poison ┆ 72.923077          ┆ 67.8                            ┆ 75.349693  │\n",
       "│ Grass   ┆ Poison ┆ 72.923077          ┆ 67.8                            ┆ 75.349693  │\n",
       "│ Grass   ┆ Poison ┆ 72.923077          ┆ 67.8                            ┆ 75.349693  │\n",
       "│ Fire    ┆ null   ┆ 88.642857          ┆ 58.3                            ┆ 75.349693  │\n",
       "│ …       ┆ …      ┆ …                  ┆ …                               ┆ …          │\n",
       "│ Fire    ┆ Flying ┆ 88.642857          ┆ 82.0                            ┆ 75.349693  │\n",
       "│ Dragon  ┆ null   ┆ 94.0               ┆ 55.0                            ┆ 75.349693  │\n",
       "│ Dragon  ┆ null   ┆ 94.0               ┆ 55.0                            ┆ 75.349693  │\n",
       "│ Dragon  ┆ Flying ┆ 94.0               ┆ 95.0                            ┆ 75.349693  │\n",
       "│ Psychic ┆ null   ┆ 53.875             ┆ 51.428571                       ┆ 75.349693  │\n",
       "└─────────┴────────┴────────────────────┴─────────────────────────────────┴────────────┘"
      ]
     },
     "execution_count": 37,
     "metadata": {},
     "output_type": "execute_result"
    }
   ],
   "source": [
    "(\n",
    "    pokemon.lazy()\n",
    "    .select(\n",
    "        \"Type 1\",\n",
    "        \"Type 2\",\n",
    "        pl.col(\"Attack\").mean().over(\"Type 1\").alias(\"avg_attack_by_type\"),\n",
    "        pl.col(\"Defense\")\n",
    "        .mean()\n",
    "        .over([\"Type 1\", \"Type 2\"])\n",
    "        .alias(\"avg_defense_by_type_combination\"),\n",
    "        pl.col(\"Attack\").mean().alias(\"avg_attack\"),\n",
    "    )\n",
    "    .collect()\n",
    ")"
   ]
  },
  {
   "cell_type": "code",
   "execution_count": 38,
   "metadata": {},
   "outputs": [
    {
     "data": {
      "text/html": [
       "<div><style>\n",
       ".dataframe > thead > tr,\n",
       ".dataframe > tbody > tr {\n",
       "  text-align: right;\n",
       "  white-space: pre-wrap;\n",
       "}\n",
       "</style>\n",
       "<small>shape: (163, 2)</small><table border=\"1\" class=\"dataframe\"><thead><tr><th>Name</th><th>count</th></tr><tr><td>str</td><td>u32</td></tr></thead><tbody><tr><td>&quot;Bulbasaur&quot;</td><td>1</td></tr><tr><td>&quot;Ivysaur&quot;</td><td>1</td></tr><tr><td>&quot;Venusaur&quot;</td><td>1</td></tr><tr><td>&quot;VenusaurMega V…</td><td>1</td></tr><tr><td>&quot;Charmander&quot;</td><td>1</td></tr><tr><td>&hellip;</td><td>&hellip;</td></tr><tr><td>&quot;Moltres&quot;</td><td>1</td></tr><tr><td>&quot;Dratini&quot;</td><td>1</td></tr><tr><td>&quot;Dragonair&quot;</td><td>1</td></tr><tr><td>&quot;Dragonite&quot;</td><td>1</td></tr><tr><td>&quot;Mewtwo&quot;</td><td>1</td></tr></tbody></table></div>"
      ],
      "text/plain": [
       "shape: (163, 2)\n",
       "┌───────────────────────┬───────┐\n",
       "│ Name                  ┆ count │\n",
       "│ ---                   ┆ ---   │\n",
       "│ str                   ┆ u32   │\n",
       "╞═══════════════════════╪═══════╡\n",
       "│ Bulbasaur             ┆ 1     │\n",
       "│ Ivysaur               ┆ 1     │\n",
       "│ Venusaur              ┆ 1     │\n",
       "│ VenusaurMega Venusaur ┆ 1     │\n",
       "│ Charmander            ┆ 1     │\n",
       "│ …                     ┆ …     │\n",
       "│ Moltres               ┆ 1     │\n",
       "│ Dratini               ┆ 1     │\n",
       "│ Dragonair             ┆ 1     │\n",
       "│ Dragonite             ┆ 1     │\n",
       "│ Mewtwo                ┆ 1     │\n",
       "└───────────────────────┴───────┘"
      ]
     },
     "execution_count": 38,
     "metadata": {},
     "output_type": "execute_result"
    }
   ],
   "source": [
    "(\n",
    "    pokemon.lazy()\n",
    "    .select(pl.col(\"Name\").value_counts(sort=True))\n",
    "    .unnest(\"Name\")\n",
    "    .collect()\n",
    ")"
   ]
  },
  {
   "cell_type": "code",
   "execution_count": 39,
   "metadata": {},
   "outputs": [
    {
     "data": {
      "text/html": [
       "<div><style>\n",
       ".dataframe > thead > tr,\n",
       ".dataframe > tbody > tr {\n",
       "  text-align: right;\n",
       "  white-space: pre-wrap;\n",
       "}\n",
       "</style>\n",
       "<small>shape: (163, 1)</small><table border=\"1\" class=\"dataframe\"><thead><tr><th>Name</th></tr><tr><td>bool</td></tr></thead><tbody><tr><td>false</td></tr><tr><td>false</td></tr><tr><td>false</td></tr><tr><td>false</td></tr><tr><td>false</td></tr><tr><td>&hellip;</td></tr><tr><td>false</td></tr><tr><td>false</td></tr><tr><td>false</td></tr><tr><td>false</td></tr><tr><td>false</td></tr></tbody></table></div>"
      ],
      "text/plain": [
       "shape: (163, 1)\n",
       "┌───────┐\n",
       "│ Name  │\n",
       "│ ---   │\n",
       "│ bool  │\n",
       "╞═══════╡\n",
       "│ false │\n",
       "│ false │\n",
       "│ false │\n",
       "│ false │\n",
       "│ false │\n",
       "│ …     │\n",
       "│ false │\n",
       "│ false │\n",
       "│ false │\n",
       "│ false │\n",
       "│ false │\n",
       "└───────┘"
      ]
     },
     "execution_count": 39,
     "metadata": {},
     "output_type": "execute_result"
    }
   ],
   "source": [
    "(pokemon.lazy().select(pl.col(\"Name\").is_duplicated()).collect())"
   ]
  }
 ],
 "metadata": {
  "kernelspec": {
   "display_name": ".venv",
   "language": "python",
   "name": "python3"
  },
  "language_info": {
   "codemirror_mode": {
    "name": "ipython",
    "version": 3
   },
   "file_extension": ".py",
   "mimetype": "text/x-python",
   "name": "python",
   "nbconvert_exporter": "python",
   "pygments_lexer": "ipython3",
   "version": "3.10.12"
  }
 },
 "nbformat": 4,
 "nbformat_minor": 2
}
